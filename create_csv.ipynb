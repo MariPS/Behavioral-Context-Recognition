{
 "cells": [
  {
   "cell_type": "markdown",
   "metadata": {
    "collapsed": true,
    "pycharm": {
     "name": "#%% md\n"
    }
   },
   "source": [
    "# Create CSV"
   ]
  },
  {
   "cell_type": "code",
   "execution_count": 1,
   "outputs": [],
   "source": [
    "# change path according to your local path\n",
    "# the path should be set to the folder containing the 60 gz files\n",
    "dset_path = \"D:\\\\_coding\\\\_wd\\\\_python\\\\uni\\\\Behavioral-Context-Recognition\\\\dataset\\\\unzipped_dataset\""
   ],
   "metadata": {
    "collapsed": false,
    "pycharm": {
     "name": "#%%\n"
    }
   }
  },
  {
   "cell_type": "code",
   "execution_count": 2,
   "outputs": [
    {
     "data": {
      "text/plain": "                                   uuid   timestamp  \\\n0  00EABED2-271D-49D8-B599-1D4A09240601  1444079161   \n1  00EABED2-271D-49D8-B599-1D4A09240601  1444079221   \n2  00EABED2-271D-49D8-B599-1D4A09240601  1444079281   \n3  00EABED2-271D-49D8-B599-1D4A09240601  1444079341   \n4  00EABED2-271D-49D8-B599-1D4A09240601  1444079431   \n\n   raw_acc:magnitude_stats:mean  raw_acc:magnitude_stats:std  \\\n0                      0.996815                     0.003529   \n1                      0.996864                     0.004172   \n2                      0.996825                     0.003667   \n3                      0.996874                     0.003541   \n4                      0.997371                     0.037653   \n\n   raw_acc:magnitude_stats:moment3  raw_acc:magnitude_stats:moment4  \\\n0                        -0.002786                         0.006496   \n1                        -0.003110                         0.007050   \n2                         0.003094                         0.006076   \n3                         0.000626                         0.006059   \n4                         0.043389                         0.102332   \n\n   raw_acc:magnitude_stats:percentile25  raw_acc:magnitude_stats:percentile50  \\\n0                              0.995203                              0.996825   \n1                              0.994957                              0.996981   \n2                              0.994797                              0.996614   \n3                              0.995050                              0.996907   \n4                              0.995548                              0.996860   \n\n   raw_acc:magnitude_stats:percentile75  \\\n0                              0.998502   \n1                              0.998766   \n2                              0.998704   \n3                              0.998690   \n4                              0.998205   \n\n   raw_acc:magnitude_stats:value_entropy  ...  label:STAIRS_-_GOING_DOWN  \\\n0                               1.748756  ...                        NaN   \n1                               1.935573  ...                        NaN   \n2                               2.031780  ...                        NaN   \n3                               1.865318  ...                        NaN   \n4                               0.460806  ...                        NaN   \n\n   label:ELEVATOR  label:OR_standing  label:AT_SCHOOL  label:PHONE_IN_HAND  \\\n0             NaN                0.0              NaN                  NaN   \n1             NaN                0.0              NaN                  NaN   \n2             NaN                0.0              NaN                  NaN   \n3             NaN                0.0              NaN                  NaN   \n4             NaN                0.0              NaN                  NaN   \n\n   label:PHONE_IN_BAG  label:PHONE_ON_TABLE  label:WITH_CO-WORKERS  \\\n0                 NaN                   1.0                    1.0   \n1                 NaN                   1.0                    1.0   \n2                 NaN                   1.0                    1.0   \n3                 NaN                   1.0                    1.0   \n4                 NaN                   1.0                    1.0   \n\n   label:WITH_FRIENDS  label_source  \n0                 NaN             2  \n1                 NaN             2  \n2                 NaN             2  \n3                 NaN             2  \n4                 NaN             2  \n\n[5 rows x 279 columns]",
      "text/html": "<div>\n<style scoped>\n    .dataframe tbody tr th:only-of-type {\n        vertical-align: middle;\n    }\n\n    .dataframe tbody tr th {\n        vertical-align: top;\n    }\n\n    .dataframe thead th {\n        text-align: right;\n    }\n</style>\n<table border=\"1\" class=\"dataframe\">\n  <thead>\n    <tr style=\"text-align: right;\">\n      <th></th>\n      <th>uuid</th>\n      <th>timestamp</th>\n      <th>raw_acc:magnitude_stats:mean</th>\n      <th>raw_acc:magnitude_stats:std</th>\n      <th>raw_acc:magnitude_stats:moment3</th>\n      <th>raw_acc:magnitude_stats:moment4</th>\n      <th>raw_acc:magnitude_stats:percentile25</th>\n      <th>raw_acc:magnitude_stats:percentile50</th>\n      <th>raw_acc:magnitude_stats:percentile75</th>\n      <th>raw_acc:magnitude_stats:value_entropy</th>\n      <th>...</th>\n      <th>label:STAIRS_-_GOING_DOWN</th>\n      <th>label:ELEVATOR</th>\n      <th>label:OR_standing</th>\n      <th>label:AT_SCHOOL</th>\n      <th>label:PHONE_IN_HAND</th>\n      <th>label:PHONE_IN_BAG</th>\n      <th>label:PHONE_ON_TABLE</th>\n      <th>label:WITH_CO-WORKERS</th>\n      <th>label:WITH_FRIENDS</th>\n      <th>label_source</th>\n    </tr>\n  </thead>\n  <tbody>\n    <tr>\n      <th>0</th>\n      <td>00EABED2-271D-49D8-B599-1D4A09240601</td>\n      <td>1444079161</td>\n      <td>0.996815</td>\n      <td>0.003529</td>\n      <td>-0.002786</td>\n      <td>0.006496</td>\n      <td>0.995203</td>\n      <td>0.996825</td>\n      <td>0.998502</td>\n      <td>1.748756</td>\n      <td>...</td>\n      <td>NaN</td>\n      <td>NaN</td>\n      <td>0.0</td>\n      <td>NaN</td>\n      <td>NaN</td>\n      <td>NaN</td>\n      <td>1.0</td>\n      <td>1.0</td>\n      <td>NaN</td>\n      <td>2</td>\n    </tr>\n    <tr>\n      <th>1</th>\n      <td>00EABED2-271D-49D8-B599-1D4A09240601</td>\n      <td>1444079221</td>\n      <td>0.996864</td>\n      <td>0.004172</td>\n      <td>-0.003110</td>\n      <td>0.007050</td>\n      <td>0.994957</td>\n      <td>0.996981</td>\n      <td>0.998766</td>\n      <td>1.935573</td>\n      <td>...</td>\n      <td>NaN</td>\n      <td>NaN</td>\n      <td>0.0</td>\n      <td>NaN</td>\n      <td>NaN</td>\n      <td>NaN</td>\n      <td>1.0</td>\n      <td>1.0</td>\n      <td>NaN</td>\n      <td>2</td>\n    </tr>\n    <tr>\n      <th>2</th>\n      <td>00EABED2-271D-49D8-B599-1D4A09240601</td>\n      <td>1444079281</td>\n      <td>0.996825</td>\n      <td>0.003667</td>\n      <td>0.003094</td>\n      <td>0.006076</td>\n      <td>0.994797</td>\n      <td>0.996614</td>\n      <td>0.998704</td>\n      <td>2.031780</td>\n      <td>...</td>\n      <td>NaN</td>\n      <td>NaN</td>\n      <td>0.0</td>\n      <td>NaN</td>\n      <td>NaN</td>\n      <td>NaN</td>\n      <td>1.0</td>\n      <td>1.0</td>\n      <td>NaN</td>\n      <td>2</td>\n    </tr>\n    <tr>\n      <th>3</th>\n      <td>00EABED2-271D-49D8-B599-1D4A09240601</td>\n      <td>1444079341</td>\n      <td>0.996874</td>\n      <td>0.003541</td>\n      <td>0.000626</td>\n      <td>0.006059</td>\n      <td>0.995050</td>\n      <td>0.996907</td>\n      <td>0.998690</td>\n      <td>1.865318</td>\n      <td>...</td>\n      <td>NaN</td>\n      <td>NaN</td>\n      <td>0.0</td>\n      <td>NaN</td>\n      <td>NaN</td>\n      <td>NaN</td>\n      <td>1.0</td>\n      <td>1.0</td>\n      <td>NaN</td>\n      <td>2</td>\n    </tr>\n    <tr>\n      <th>4</th>\n      <td>00EABED2-271D-49D8-B599-1D4A09240601</td>\n      <td>1444079431</td>\n      <td>0.997371</td>\n      <td>0.037653</td>\n      <td>0.043389</td>\n      <td>0.102332</td>\n      <td>0.995548</td>\n      <td>0.996860</td>\n      <td>0.998205</td>\n      <td>0.460806</td>\n      <td>...</td>\n      <td>NaN</td>\n      <td>NaN</td>\n      <td>0.0</td>\n      <td>NaN</td>\n      <td>NaN</td>\n      <td>NaN</td>\n      <td>1.0</td>\n      <td>1.0</td>\n      <td>NaN</td>\n      <td>2</td>\n    </tr>\n  </tbody>\n</table>\n<p>5 rows × 279 columns</p>\n</div>"
     },
     "execution_count": 2,
     "metadata": {},
     "output_type": "execute_result"
    }
   ],
   "source": [
    "# read the all the csv files\n",
    "import os\n",
    "import gzip\n",
    "import pandas as pd\n",
    "\n",
    "df_list=[]\n",
    "for gzFile in os.listdir(dset_path):\n",
    "   path_gz = dset_path + \"\\\\\" + gzFile\n",
    "   with gzip.open(path_gz) as f:\n",
    "      df = pd.read_csv(f, header=0)\n",
    "      df.insert(0,'uuid',gzFile[:-23])\n",
    "      df_list.append(df)\n",
    "\n",
    "df_dset = pd.concat(df_list, axis=0, ignore_index=True)\n",
    "df_dset.head()"
   ],
   "metadata": {
    "collapsed": false,
    "pycharm": {
     "name": "#%%\n"
    }
   }
  },
  {
   "cell_type": "code",
   "execution_count": 3,
   "outputs": [],
   "source": [
    "# save csv as it is in directory:\n",
    "dset_final_path = \"D:\\\\_coding\\\\_wd\\\\_python\\\\uni\\\\Behavioral-Context-Recognition\\\\dataset\"\n",
    "\n",
    "df_dset.to_csv(dset_final_path+\"\\\\complete_dataset.csv\", index=False)"
   ],
   "metadata": {
    "collapsed": false,
    "pycharm": {
     "name": "#%%\n"
    }
   }
  },
  {
   "cell_type": "markdown",
   "source": [
    "## Data Preparation\n",
    "Following are a set of operation to clean and create the dataset csv for model learning.\n",
    "\n",
    "First we import the complete and unaltered dataset:"
   ],
   "metadata": {
    "collapsed": false,
    "pycharm": {
     "name": "#%% md\n"
    }
   }
  },
  {
   "cell_type": "code",
   "execution_count": 1,
   "outputs": [],
   "source": [
    "import pandas as pd\n",
    "\n",
    "# read the complete dataset csv:\n",
    "dset_path = \"D:\\\\_coding\\\\_wd\\\\_python\\\\uni\\\\Behavioral-Context-Recognition\\\\dataset\\\\complete_dataset.csv\"\n",
    "df_dset = pd.read_csv(dset_path)"
   ],
   "metadata": {
    "collapsed": false,
    "pycharm": {
     "name": "#%%\n"
    }
   }
  },
  {
   "cell_type": "markdown",
   "source": [
    "### WALKING :-\n",
    "In this section we'll create all the datasets for WALKING/NON WALKING classification. For this purpose, we'll select\n",
    "the WALKING label and only those features we analyzed in EDA notebook and found they were useful for this classification.\n"
   ],
   "metadata": {
    "collapsed": false,
    "pycharm": {
     "name": "#%% md\n"
    }
   }
  },
  {
   "cell_type": "code",
   "execution_count": 2,
   "outputs": [
    {
     "name": "stdout",
     "output_type": "stream",
     "text": [
      "Columns deleted.\n"
     ]
    }
   ],
   "source": [
    "df_dset_copy = df_dset.copy()\n",
    "\n",
    "columns = df_dset_copy.columns\n",
    "\n",
    "list_columns_to_delete = []\n",
    "for col in columns:\n",
    "    if any(word in col for word in [\"gyro\",\"watch_acc\",\"raw_acc\"]):\n",
    "        continue\n",
    "    elif \"label:FIX_walking\" in col:\n",
    "        continue\n",
    "    else:\n",
    "        list_columns_to_delete.append(col)\n",
    "\n",
    "# delete timestamps too because the series are already ordered\n",
    "df_dset_copy.drop(columns=list_columns_to_delete, inplace=True)\n",
    "print(\"Columns deleted.\")\n",
    "\n",
    "df_dset_walking_3f = df_dset_copy"
   ],
   "metadata": {
    "collapsed": false,
    "pycharm": {
     "name": "#%%\n"
    }
   }
  },
  {
   "cell_type": "code",
   "execution_count": 3,
   "outputs": [
    {
     "data": {
      "text/plain": "array(['raw_acc:magnitude_stats:mean', 'raw_acc:magnitude_stats:std',\n       'raw_acc:magnitude_stats:moment3',\n       'raw_acc:magnitude_stats:moment4',\n       'raw_acc:magnitude_stats:percentile25',\n       'raw_acc:magnitude_stats:percentile50',\n       'raw_acc:magnitude_stats:percentile75',\n       'raw_acc:magnitude_stats:value_entropy',\n       'raw_acc:magnitude_stats:time_entropy',\n       'raw_acc:magnitude_spectrum:log_energy_band0',\n       'raw_acc:magnitude_spectrum:log_energy_band1',\n       'raw_acc:magnitude_spectrum:log_energy_band2',\n       'raw_acc:magnitude_spectrum:log_energy_band3',\n       'raw_acc:magnitude_spectrum:log_energy_band4',\n       'raw_acc:magnitude_spectrum:spectral_entropy',\n       'raw_acc:magnitude_autocorrelation:period',\n       'raw_acc:magnitude_autocorrelation:normalized_ac',\n       'raw_acc:3d:mean_x', 'raw_acc:3d:mean_y', 'raw_acc:3d:mean_z',\n       'raw_acc:3d:std_x', 'raw_acc:3d:std_y', 'raw_acc:3d:std_z',\n       'raw_acc:3d:ro_xy', 'raw_acc:3d:ro_xz', 'raw_acc:3d:ro_yz',\n       'proc_gyro:magnitude_stats:mean', 'proc_gyro:magnitude_stats:std',\n       'proc_gyro:magnitude_stats:moment3',\n       'proc_gyro:magnitude_stats:moment4',\n       'proc_gyro:magnitude_stats:percentile25',\n       'proc_gyro:magnitude_stats:percentile50',\n       'proc_gyro:magnitude_stats:percentile75',\n       'proc_gyro:magnitude_stats:value_entropy',\n       'proc_gyro:magnitude_stats:time_entropy',\n       'proc_gyro:magnitude_spectrum:log_energy_band0',\n       'proc_gyro:magnitude_spectrum:log_energy_band1',\n       'proc_gyro:magnitude_spectrum:log_energy_band2',\n       'proc_gyro:magnitude_spectrum:log_energy_band3',\n       'proc_gyro:magnitude_spectrum:log_energy_band4',\n       'proc_gyro:magnitude_spectrum:spectral_entropy',\n       'proc_gyro:magnitude_autocorrelation:period',\n       'proc_gyro:magnitude_autocorrelation:normalized_ac',\n       'proc_gyro:3d:mean_x', 'proc_gyro:3d:mean_y',\n       'proc_gyro:3d:mean_z', 'proc_gyro:3d:std_x', 'proc_gyro:3d:std_y',\n       'proc_gyro:3d:std_z', 'proc_gyro:3d:ro_xy', 'proc_gyro:3d:ro_xz',\n       'proc_gyro:3d:ro_yz', 'watch_acceleration:magnitude_stats:mean',\n       'watch_acceleration:magnitude_stats:std',\n       'watch_acceleration:magnitude_stats:moment3',\n       'watch_acceleration:magnitude_stats:moment4',\n       'watch_acceleration:magnitude_stats:percentile25',\n       'watch_acceleration:magnitude_stats:percentile50',\n       'watch_acceleration:magnitude_stats:percentile75',\n       'watch_acceleration:magnitude_stats:value_entropy',\n       'watch_acceleration:magnitude_stats:time_entropy',\n       'watch_acceleration:magnitude_spectrum:log_energy_band0',\n       'watch_acceleration:magnitude_spectrum:log_energy_band1',\n       'watch_acceleration:magnitude_spectrum:log_energy_band2',\n       'watch_acceleration:magnitude_spectrum:log_energy_band3',\n       'watch_acceleration:magnitude_spectrum:log_energy_band4',\n       'watch_acceleration:magnitude_spectrum:spectral_entropy',\n       'watch_acceleration:magnitude_autocorrelation:period',\n       'watch_acceleration:magnitude_autocorrelation:normalized_ac',\n       'watch_acceleration:3d:mean_x', 'watch_acceleration:3d:mean_y',\n       'watch_acceleration:3d:mean_z', 'watch_acceleration:3d:std_x',\n       'watch_acceleration:3d:std_y', 'watch_acceleration:3d:std_z',\n       'watch_acceleration:3d:ro_xy', 'watch_acceleration:3d:ro_xz',\n       'watch_acceleration:3d:ro_yz',\n       'watch_acceleration:spectrum:x_log_energy_band0',\n       'watch_acceleration:spectrum:x_log_energy_band1',\n       'watch_acceleration:spectrum:x_log_energy_band2',\n       'watch_acceleration:spectrum:x_log_energy_band3',\n       'watch_acceleration:spectrum:x_log_energy_band4',\n       'watch_acceleration:spectrum:y_log_energy_band0',\n       'watch_acceleration:spectrum:y_log_energy_band1',\n       'watch_acceleration:spectrum:y_log_energy_band2',\n       'watch_acceleration:spectrum:y_log_energy_band3',\n       'watch_acceleration:spectrum:y_log_energy_band4',\n       'watch_acceleration:spectrum:z_log_energy_band0',\n       'watch_acceleration:spectrum:z_log_energy_band1',\n       'watch_acceleration:spectrum:z_log_energy_band2',\n       'watch_acceleration:spectrum:z_log_energy_band3',\n       'watch_acceleration:spectrum:z_log_energy_band4',\n       'watch_acceleration:relative_directions:avr_cosine_similarity_lag_range0',\n       'watch_acceleration:relative_directions:avr_cosine_similarity_lag_range1',\n       'watch_acceleration:relative_directions:avr_cosine_similarity_lag_range2',\n       'watch_acceleration:relative_directions:avr_cosine_similarity_lag_range3',\n       'watch_acceleration:relative_directions:avr_cosine_similarity_lag_range4',\n       'label:FIX_walking'], dtype=object)"
     },
     "execution_count": 3,
     "metadata": {},
     "output_type": "execute_result"
    }
   ],
   "source": [
    "df_dset_walking_3f.columns.values\n"
   ],
   "metadata": {
    "collapsed": false,
    "pycharm": {
     "name": "#%%\n"
    }
   }
  },
  {
   "cell_type": "markdown",
   "source": [
    "#### Data Cleaning\n",
    "At first, we shall see if data is already cleaned or if further preprocessing is required. We already assessed in EDA\n",
    "notebook that some columns contain <code>nan</code> values. So we'll start by cleaning up those values for features columns."
   ],
   "metadata": {
    "collapsed": false,
    "pycharm": {
     "name": "#%% md\n"
    }
   }
  },
  {
   "cell_type": "code",
   "execution_count": 4,
   "outputs": [
    {
     "name": "stdout",
     "output_type": "stream",
     "text": [
      "raw_acc:magnitude_stats:mean                       290\n",
      "raw_acc:magnitude_stats:std                        290\n",
      "raw_acc:magnitude_stats:moment3                    290\n",
      "raw_acc:magnitude_stats:moment4                    290\n",
      "raw_acc:magnitude_stats:percentile25               290\n",
      "raw_acc:magnitude_stats:percentile50               290\n",
      "raw_acc:magnitude_stats:percentile75               290\n",
      "raw_acc:magnitude_stats:value_entropy              290\n",
      "raw_acc:magnitude_stats:time_entropy               290\n",
      "raw_acc:magnitude_spectrum:log_energy_band0        290\n",
      "raw_acc:magnitude_spectrum:log_energy_band1        290\n",
      "raw_acc:magnitude_spectrum:log_energy_band2        290\n",
      "raw_acc:magnitude_spectrum:log_energy_band3        290\n",
      "raw_acc:magnitude_spectrum:log_energy_band4        290\n",
      "raw_acc:magnitude_spectrum:spectral_entropy        290\n",
      "raw_acc:magnitude_autocorrelation:period           290\n",
      "raw_acc:magnitude_autocorrelation:normalized_ac    290\n",
      "raw_acc:3d:mean_x                                  290\n",
      "raw_acc:3d:mean_y                                  290\n",
      "raw_acc:3d:mean_z                                  290\n",
      "raw_acc:3d:std_x                                   290\n",
      "raw_acc:3d:std_y                                   290\n",
      "raw_acc:3d:std_z                                   290\n",
      "raw_acc:3d:ro_xy                                   290\n",
      "raw_acc:3d:ro_xz                                   290\n",
      "raw_acc:3d:ro_yz                                   290\n",
      "dtype: int64\n",
      "proc_gyro:magnitude_stats:mean                       17434\n",
      "proc_gyro:magnitude_stats:std                        17434\n",
      "proc_gyro:magnitude_stats:moment3                    17434\n",
      "proc_gyro:magnitude_stats:moment4                    17434\n",
      "proc_gyro:magnitude_stats:percentile25               17434\n",
      "proc_gyro:magnitude_stats:percentile50               17434\n",
      "proc_gyro:magnitude_stats:percentile75               17434\n",
      "proc_gyro:magnitude_stats:value_entropy              17434\n",
      "proc_gyro:magnitude_stats:time_entropy               17434\n",
      "proc_gyro:magnitude_spectrum:log_energy_band0        17434\n",
      "proc_gyro:magnitude_spectrum:log_energy_band1        17434\n",
      "proc_gyro:magnitude_spectrum:log_energy_band2        17434\n",
      "proc_gyro:magnitude_spectrum:log_energy_band3        17434\n",
      "proc_gyro:magnitude_spectrum:log_energy_band4        17434\n",
      "proc_gyro:magnitude_spectrum:spectral_entropy        17434\n",
      "proc_gyro:magnitude_autocorrelation:period           17434\n",
      "proc_gyro:magnitude_autocorrelation:normalized_ac    17448\n",
      "proc_gyro:3d:mean_x                                  17434\n",
      "proc_gyro:3d:mean_y                                  17434\n",
      "proc_gyro:3d:mean_z                                  17434\n",
      "proc_gyro:3d:std_x                                   17434\n",
      "proc_gyro:3d:std_y                                   17434\n",
      "proc_gyro:3d:std_z                                   17434\n",
      "proc_gyro:3d:ro_xy                                   19223\n",
      "proc_gyro:3d:ro_xz                                   19232\n",
      "proc_gyro:3d:ro_yz                                   19232\n",
      "dtype: int64\n",
      "watch_acceleration:magnitude_stats:mean                                    132544\n",
      "watch_acceleration:magnitude_stats:std                                     132544\n",
      "watch_acceleration:magnitude_stats:moment3                                 132544\n",
      "watch_acceleration:magnitude_stats:moment4                                 132544\n",
      "watch_acceleration:magnitude_stats:percentile25                            132544\n",
      "watch_acceleration:magnitude_stats:percentile50                            132544\n",
      "watch_acceleration:magnitude_stats:percentile75                            132544\n",
      "watch_acceleration:magnitude_stats:value_entropy                           132544\n",
      "watch_acceleration:magnitude_stats:time_entropy                            132544\n",
      "watch_acceleration:magnitude_spectrum:log_energy_band0                     132544\n",
      "watch_acceleration:magnitude_spectrum:log_energy_band1                     132544\n",
      "watch_acceleration:magnitude_spectrum:log_energy_band2                     132544\n",
      "watch_acceleration:magnitude_spectrum:log_energy_band3                     132544\n",
      "watch_acceleration:magnitude_spectrum:log_energy_band4                     132544\n",
      "watch_acceleration:magnitude_spectrum:spectral_entropy                     132544\n",
      "watch_acceleration:magnitude_autocorrelation:period                        132544\n",
      "watch_acceleration:magnitude_autocorrelation:normalized_ac                 132544\n",
      "watch_acceleration:3d:mean_x                                               132544\n",
      "watch_acceleration:3d:mean_y                                               132544\n",
      "watch_acceleration:3d:mean_z                                               132544\n",
      "watch_acceleration:3d:std_x                                                132544\n",
      "watch_acceleration:3d:std_y                                                132544\n",
      "watch_acceleration:3d:std_z                                                132544\n",
      "watch_acceleration:3d:ro_xy                                                132544\n",
      "watch_acceleration:3d:ro_xz                                                132544\n",
      "watch_acceleration:3d:ro_yz                                                132544\n",
      "watch_acceleration:spectrum:x_log_energy_band0                             132544\n",
      "watch_acceleration:spectrum:x_log_energy_band1                             132544\n",
      "watch_acceleration:spectrum:x_log_energy_band2                             132544\n",
      "watch_acceleration:spectrum:x_log_energy_band3                             132544\n",
      "watch_acceleration:spectrum:x_log_energy_band4                             132544\n",
      "watch_acceleration:spectrum:y_log_energy_band0                             132544\n",
      "watch_acceleration:spectrum:y_log_energy_band1                             132544\n",
      "watch_acceleration:spectrum:y_log_energy_band2                             132544\n",
      "watch_acceleration:spectrum:y_log_energy_band3                             132544\n",
      "watch_acceleration:spectrum:y_log_energy_band4                             132544\n",
      "watch_acceleration:spectrum:z_log_energy_band0                             132544\n",
      "watch_acceleration:spectrum:z_log_energy_band1                             132544\n",
      "watch_acceleration:spectrum:z_log_energy_band2                             132544\n",
      "watch_acceleration:spectrum:z_log_energy_band3                             132544\n",
      "watch_acceleration:spectrum:z_log_energy_band4                             132544\n",
      "watch_acceleration:relative_directions:avr_cosine_similarity_lag_range0    132544\n",
      "watch_acceleration:relative_directions:avr_cosine_similarity_lag_range1    132544\n",
      "watch_acceleration:relative_directions:avr_cosine_similarity_lag_range2    132544\n",
      "watch_acceleration:relative_directions:avr_cosine_similarity_lag_range3    132544\n",
      "watch_acceleration:relative_directions:avr_cosine_similarity_lag_range4    132544\n",
      "dtype: int64\n"
     ]
    }
   ],
   "source": [
    "\n",
    "print(df_dset_walking_3f.loc[:,'raw_acc:magnitude_stats:mean':'raw_acc:3d:ro_yz'].isna().sum())\n",
    "print(df_dset_walking_3f.loc[:,'proc_gyro:magnitude_stats:mean':'proc_gyro:3d:ro_yz'].isna().sum())\n",
    "print(df_dset_walking_3f.loc[:,'watch_acceleration:magnitude_stats:mean':'watch_acceleration:relative_directions:avr_cosine_similarity_lag_range4'].isna().sum())"
   ],
   "metadata": {
    "collapsed": false,
    "pycharm": {
     "name": "#%%\n"
    }
   }
  },
  {
   "cell_type": "code",
   "execution_count": 5,
   "outputs": [
    {
     "name": "stdout",
     "output_type": "stream",
     "text": [
      "Missing values in features columns (before) =  6563247\n",
      "Missing values in features columns (after) =  0\n"
     ]
    }
   ],
   "source": [
    "features_names = df_dset_walking_3f.columns.values[0:-1].tolist()\n",
    "\n",
    "print(\"Missing values in features columns (before) = \", df_dset_walking_3f.loc[:,features_names].isna().sum().sum())\n",
    "df_dset_walking_3f.dropna(subset=features_names, inplace=True)\n",
    "print(\"Missing values in features columns (after) = \", df_dset_walking_3f.loc[:,features_names].isna().sum().sum())"
   ],
   "metadata": {
    "collapsed": false,
    "pycharm": {
     "name": "#%%\n"
    }
   }
  },
  {
   "cell_type": "markdown",
   "source": [
    "Now for label column:"
   ],
   "metadata": {
    "collapsed": false,
    "pycharm": {
     "name": "#%% md\n"
    }
   }
  },
  {
   "cell_type": "code",
   "execution_count": 6,
   "outputs": [
    {
     "name": "stdout",
     "output_type": "stream",
     "text": [
      "Number of NaN values (before):  34718\n",
      "Number of NaN values (after):  0\n"
     ]
    }
   ],
   "source": [
    "# set all nan values of label:FIX_walking to 0\n",
    "print(\"Number of NaN values (before): \", df_dset_walking_3f.loc[df_dset_walking_3f[\"label:FIX_walking\"].isna(), [\"label:FIX_walking\"]].shape[0])\n",
    "df_dset_walking_3f.loc[df_dset_walking_3f[\"label:FIX_walking\"].isna(), [\"label:FIX_walking\"]] = 0.0\n",
    "print(\"Number of NaN values (after): \", df_dset_walking_3f.loc[df_dset_walking_3f[\"label:FIX_walking\"].isna(), [\"label:FIX_walking\"]].shape[0])"
   ],
   "metadata": {
    "collapsed": false,
    "pycharm": {
     "name": "#%%\n"
    }
   }
  },
  {
   "cell_type": "code",
   "execution_count": 9,
   "outputs": [
    {
     "data": {
      "text/plain": "         index  raw_acc:magnitude_stats:mean  raw_acc:magnitude_stats:std  \\\n0            0                      0.996815                     0.003529   \n1            1                      0.996864                     0.004172   \n2            2                      0.996825                     0.003667   \n3            3                      0.996874                     0.003541   \n4            4                      0.997371                     0.037653   \n...        ...                           ...                          ...   \n232868  366284                      1.044478                     0.001459   \n232869  366285                      1.045003                     0.001521   \n232870  366286                      1.044018                     0.001528   \n232871  366287                      1.043469                     0.048007   \n232872  366288                      1.044458                     0.115433   \n\n        raw_acc:magnitude_stats:moment3  raw_acc:magnitude_stats:moment4  \\\n0                             -0.002786                         0.006496   \n1                             -0.003110                         0.007050   \n2                              0.003094                         0.006076   \n3                              0.000626                         0.006059   \n4                              0.043389                         0.102332   \n...                                 ...                              ...   \n232868                        -0.000447                         0.001928   \n232869                         0.000802                         0.002004   \n232870                        -0.000719                         0.002038   \n232871                        -0.070631                         0.147004   \n232872                         0.181896                         0.323459   \n\n        raw_acc:magnitude_stats:percentile25  \\\n0                                   0.995203   \n1                                   0.994957   \n2                                   0.994797   \n3                                   0.995050   \n4                                   0.995548   \n...                                      ...   \n232868                              1.043584   \n232869                              1.043932   \n232870                              1.043013   \n232871                              1.041401   \n232872                              1.038181   \n\n        raw_acc:magnitude_stats:percentile50  \\\n0                                   0.996825   \n1                                   0.996981   \n2                                   0.996614   \n3                                   0.996907   \n4                                   0.996860   \n...                                      ...   \n232868                              1.044439   \n232869                              1.044956   \n232870                              1.044054   \n232871                              1.043133   \n232872                              1.043588   \n\n        raw_acc:magnitude_stats:percentile75  \\\n0                                   0.998502   \n1                                   0.998766   \n2                                   0.998704   \n3                                   0.998690   \n4                                   0.998205   \n...                                      ...   \n232868                              1.045451   \n232869                              1.045980   \n232870                              1.045033   \n232871                              1.044632   \n232872                              1.047153   \n\n        raw_acc:magnitude_stats:value_entropy  \\\n0                                    1.748756   \n1                                    1.935573   \n2                                    2.031780   \n3                                    1.865318   \n4                                    0.460806   \n...                                       ...   \n232868                               2.557106   \n232869                               2.510352   \n232870                               2.587285   \n232871                               0.542064   \n232872                               0.725280   \n\n        raw_acc:magnitude_stats:time_entropy  ...  \\\n0                                   6.684605  ...   \n1                                   6.684603  ...   \n2                                   6.684605  ...   \n3                                   6.684605  ...   \n4                                   6.683904  ...   \n...                                      ...  ...   \n232868                              6.684611  ...   \n232869                              6.684611  ...   \n232870                              6.684611  ...   \n232871                              6.683448  ...   \n232872                              6.678871  ...   \n\n        watch_acceleration:spectrum:z_log_energy_band1  \\\n0                                             0.004994   \n1                                             0.003815   \n2                                             0.007040   \n3                                             0.004311   \n4                                             1.742936   \n...                                                ...   \n232868                                        2.793748   \n232869                                        3.839144   \n232870                                        4.570503   \n232871                                        3.424182   \n232872                                        0.000000   \n\n        watch_acceleration:spectrum:z_log_energy_band2  \\\n0                                             0.023702   \n1                                             0.025582   \n2                                             0.020717   \n3                                             0.034215   \n4                                             1.477211   \n...                                                ...   \n232868                                        3.069341   \n232869                                        4.369760   \n232870                                        4.411898   \n232871                                        3.070862   \n232872                                        5.144524   \n\n        watch_acceleration:spectrum:z_log_energy_band3  \\\n0                                             0.022539   \n1                                             0.023285   \n2                                             0.026889   \n3                                             0.035575   \n4                                             1.302678   \n...                                                ...   \n232868                                        1.653165   \n232869                                        1.329904   \n232870                                        3.227623   \n232871                                        2.806717   \n232872                                        0.198603   \n\n        watch_acceleration:spectrum:z_log_energy_band4  \\\n0                                             0.083756   \n1                                             0.129195   \n2                                             0.080554   \n3                                             0.090120   \n4                                             2.700446   \n...                                                ...   \n232868                                        0.000000   \n232869                                        0.000000   \n232870                                        0.000000   \n232871                                        0.000000   \n232872                                        0.722311   \n\n        watch_acceleration:relative_directions:avr_cosine_similarity_lag_range0  \\\n0                                                0.999849                         \n1                                                0.999835                         \n2                                                0.999817                         \n3                                                0.999854                         \n4                                                0.986681                         \n...                                                   ...                         \n232868                                           0.975794                         \n232869                                           0.888645                         \n232870                                           0.901224                         \n232871                                           0.958302                         \n232872                                           0.999885                         \n\n        watch_acceleration:relative_directions:avr_cosine_similarity_lag_range1  \\\n0                                                0.999835                         \n1                                                0.999827                         \n2                                                0.999797                         \n3                                                0.999845                         \n4                                                0.962466                         \n...                                                   ...                         \n232868                                           0.939543                         \n232869                                           0.776227                         \n232870                                           0.768997                         \n232871                                           0.895361                         \n232872                                           0.999871                         \n\n        watch_acceleration:relative_directions:avr_cosine_similarity_lag_range2  \\\n0                                                0.999836                         \n1                                                0.999817                         \n2                                                0.999790                         \n3                                                0.999842                         \n4                                                0.955313                         \n...                                                   ...                         \n232868                                           0.818400                         \n232869                                           0.353599                         \n232870                                           0.431188                         \n232871                                           0.726545                         \n232872                                           0.000000                         \n\n        watch_acceleration:relative_directions:avr_cosine_similarity_lag_range3  \\\n0                                                0.999832                         \n1                                                0.999820                         \n2                                                0.999791                         \n3                                                0.999841                         \n4                                                0.944759                         \n...                                                   ...                         \n232868                                           0.755940                         \n232869                                           0.325917                         \n232870                                           0.305545                         \n232871                                           0.337854                         \n232872                                           0.000000                         \n\n        watch_acceleration:relative_directions:avr_cosine_similarity_lag_range4  \\\n0                                                0.999819                         \n1                                                0.999828                         \n2                                                0.999824                         \n3                                                0.999829                         \n4                                                0.995185                         \n...                                                   ...                         \n232868                                           0.778336                         \n232869                                          -0.103433                         \n232870                                           0.579282                         \n232871                                          -0.262308                         \n232872                                           0.000000                         \n\n        label:FIX_walking  \n0                     0.0  \n1                     0.0  \n2                     0.0  \n3                     0.0  \n4                     0.0  \n...                   ...  \n232868                0.0  \n232869                0.0  \n232870                0.0  \n232871                0.0  \n232872                0.0  \n\n[232873 rows x 100 columns]",
      "text/html": "<div>\n<style scoped>\n    .dataframe tbody tr th:only-of-type {\n        vertical-align: middle;\n    }\n\n    .dataframe tbody tr th {\n        vertical-align: top;\n    }\n\n    .dataframe thead th {\n        text-align: right;\n    }\n</style>\n<table border=\"1\" class=\"dataframe\">\n  <thead>\n    <tr style=\"text-align: right;\">\n      <th></th>\n      <th>index</th>\n      <th>raw_acc:magnitude_stats:mean</th>\n      <th>raw_acc:magnitude_stats:std</th>\n      <th>raw_acc:magnitude_stats:moment3</th>\n      <th>raw_acc:magnitude_stats:moment4</th>\n      <th>raw_acc:magnitude_stats:percentile25</th>\n      <th>raw_acc:magnitude_stats:percentile50</th>\n      <th>raw_acc:magnitude_stats:percentile75</th>\n      <th>raw_acc:magnitude_stats:value_entropy</th>\n      <th>raw_acc:magnitude_stats:time_entropy</th>\n      <th>...</th>\n      <th>watch_acceleration:spectrum:z_log_energy_band1</th>\n      <th>watch_acceleration:spectrum:z_log_energy_band2</th>\n      <th>watch_acceleration:spectrum:z_log_energy_band3</th>\n      <th>watch_acceleration:spectrum:z_log_energy_band4</th>\n      <th>watch_acceleration:relative_directions:avr_cosine_similarity_lag_range0</th>\n      <th>watch_acceleration:relative_directions:avr_cosine_similarity_lag_range1</th>\n      <th>watch_acceleration:relative_directions:avr_cosine_similarity_lag_range2</th>\n      <th>watch_acceleration:relative_directions:avr_cosine_similarity_lag_range3</th>\n      <th>watch_acceleration:relative_directions:avr_cosine_similarity_lag_range4</th>\n      <th>label:FIX_walking</th>\n    </tr>\n  </thead>\n  <tbody>\n    <tr>\n      <th>0</th>\n      <td>0</td>\n      <td>0.996815</td>\n      <td>0.003529</td>\n      <td>-0.002786</td>\n      <td>0.006496</td>\n      <td>0.995203</td>\n      <td>0.996825</td>\n      <td>0.998502</td>\n      <td>1.748756</td>\n      <td>6.684605</td>\n      <td>...</td>\n      <td>0.004994</td>\n      <td>0.023702</td>\n      <td>0.022539</td>\n      <td>0.083756</td>\n      <td>0.999849</td>\n      <td>0.999835</td>\n      <td>0.999836</td>\n      <td>0.999832</td>\n      <td>0.999819</td>\n      <td>0.0</td>\n    </tr>\n    <tr>\n      <th>1</th>\n      <td>1</td>\n      <td>0.996864</td>\n      <td>0.004172</td>\n      <td>-0.003110</td>\n      <td>0.007050</td>\n      <td>0.994957</td>\n      <td>0.996981</td>\n      <td>0.998766</td>\n      <td>1.935573</td>\n      <td>6.684603</td>\n      <td>...</td>\n      <td>0.003815</td>\n      <td>0.025582</td>\n      <td>0.023285</td>\n      <td>0.129195</td>\n      <td>0.999835</td>\n      <td>0.999827</td>\n      <td>0.999817</td>\n      <td>0.999820</td>\n      <td>0.999828</td>\n      <td>0.0</td>\n    </tr>\n    <tr>\n      <th>2</th>\n      <td>2</td>\n      <td>0.996825</td>\n      <td>0.003667</td>\n      <td>0.003094</td>\n      <td>0.006076</td>\n      <td>0.994797</td>\n      <td>0.996614</td>\n      <td>0.998704</td>\n      <td>2.031780</td>\n      <td>6.684605</td>\n      <td>...</td>\n      <td>0.007040</td>\n      <td>0.020717</td>\n      <td>0.026889</td>\n      <td>0.080554</td>\n      <td>0.999817</td>\n      <td>0.999797</td>\n      <td>0.999790</td>\n      <td>0.999791</td>\n      <td>0.999824</td>\n      <td>0.0</td>\n    </tr>\n    <tr>\n      <th>3</th>\n      <td>3</td>\n      <td>0.996874</td>\n      <td>0.003541</td>\n      <td>0.000626</td>\n      <td>0.006059</td>\n      <td>0.995050</td>\n      <td>0.996907</td>\n      <td>0.998690</td>\n      <td>1.865318</td>\n      <td>6.684605</td>\n      <td>...</td>\n      <td>0.004311</td>\n      <td>0.034215</td>\n      <td>0.035575</td>\n      <td>0.090120</td>\n      <td>0.999854</td>\n      <td>0.999845</td>\n      <td>0.999842</td>\n      <td>0.999841</td>\n      <td>0.999829</td>\n      <td>0.0</td>\n    </tr>\n    <tr>\n      <th>4</th>\n      <td>4</td>\n      <td>0.997371</td>\n      <td>0.037653</td>\n      <td>0.043389</td>\n      <td>0.102332</td>\n      <td>0.995548</td>\n      <td>0.996860</td>\n      <td>0.998205</td>\n      <td>0.460806</td>\n      <td>6.683904</td>\n      <td>...</td>\n      <td>1.742936</td>\n      <td>1.477211</td>\n      <td>1.302678</td>\n      <td>2.700446</td>\n      <td>0.986681</td>\n      <td>0.962466</td>\n      <td>0.955313</td>\n      <td>0.944759</td>\n      <td>0.995185</td>\n      <td>0.0</td>\n    </tr>\n    <tr>\n      <th>...</th>\n      <td>...</td>\n      <td>...</td>\n      <td>...</td>\n      <td>...</td>\n      <td>...</td>\n      <td>...</td>\n      <td>...</td>\n      <td>...</td>\n      <td>...</td>\n      <td>...</td>\n      <td>...</td>\n      <td>...</td>\n      <td>...</td>\n      <td>...</td>\n      <td>...</td>\n      <td>...</td>\n      <td>...</td>\n      <td>...</td>\n      <td>...</td>\n      <td>...</td>\n      <td>...</td>\n    </tr>\n    <tr>\n      <th>232868</th>\n      <td>366284</td>\n      <td>1.044478</td>\n      <td>0.001459</td>\n      <td>-0.000447</td>\n      <td>0.001928</td>\n      <td>1.043584</td>\n      <td>1.044439</td>\n      <td>1.045451</td>\n      <td>2.557106</td>\n      <td>6.684611</td>\n      <td>...</td>\n      <td>2.793748</td>\n      <td>3.069341</td>\n      <td>1.653165</td>\n      <td>0.000000</td>\n      <td>0.975794</td>\n      <td>0.939543</td>\n      <td>0.818400</td>\n      <td>0.755940</td>\n      <td>0.778336</td>\n      <td>0.0</td>\n    </tr>\n    <tr>\n      <th>232869</th>\n      <td>366285</td>\n      <td>1.045003</td>\n      <td>0.001521</td>\n      <td>0.000802</td>\n      <td>0.002004</td>\n      <td>1.043932</td>\n      <td>1.044956</td>\n      <td>1.045980</td>\n      <td>2.510352</td>\n      <td>6.684611</td>\n      <td>...</td>\n      <td>3.839144</td>\n      <td>4.369760</td>\n      <td>1.329904</td>\n      <td>0.000000</td>\n      <td>0.888645</td>\n      <td>0.776227</td>\n      <td>0.353599</td>\n      <td>0.325917</td>\n      <td>-0.103433</td>\n      <td>0.0</td>\n    </tr>\n    <tr>\n      <th>232870</th>\n      <td>366286</td>\n      <td>1.044018</td>\n      <td>0.001528</td>\n      <td>-0.000719</td>\n      <td>0.002038</td>\n      <td>1.043013</td>\n      <td>1.044054</td>\n      <td>1.045033</td>\n      <td>2.587285</td>\n      <td>6.684611</td>\n      <td>...</td>\n      <td>4.570503</td>\n      <td>4.411898</td>\n      <td>3.227623</td>\n      <td>0.000000</td>\n      <td>0.901224</td>\n      <td>0.768997</td>\n      <td>0.431188</td>\n      <td>0.305545</td>\n      <td>0.579282</td>\n      <td>0.0</td>\n    </tr>\n    <tr>\n      <th>232871</th>\n      <td>366287</td>\n      <td>1.043469</td>\n      <td>0.048007</td>\n      <td>-0.070631</td>\n      <td>0.147004</td>\n      <td>1.041401</td>\n      <td>1.043133</td>\n      <td>1.044632</td>\n      <td>0.542064</td>\n      <td>6.683448</td>\n      <td>...</td>\n      <td>3.424182</td>\n      <td>3.070862</td>\n      <td>2.806717</td>\n      <td>0.000000</td>\n      <td>0.958302</td>\n      <td>0.895361</td>\n      <td>0.726545</td>\n      <td>0.337854</td>\n      <td>-0.262308</td>\n      <td>0.0</td>\n    </tr>\n    <tr>\n      <th>232872</th>\n      <td>366288</td>\n      <td>1.044458</td>\n      <td>0.115433</td>\n      <td>0.181896</td>\n      <td>0.323459</td>\n      <td>1.038181</td>\n      <td>1.043588</td>\n      <td>1.047153</td>\n      <td>0.725280</td>\n      <td>6.678871</td>\n      <td>...</td>\n      <td>0.000000</td>\n      <td>5.144524</td>\n      <td>0.198603</td>\n      <td>0.722311</td>\n      <td>0.999885</td>\n      <td>0.999871</td>\n      <td>0.000000</td>\n      <td>0.000000</td>\n      <td>0.000000</td>\n      <td>0.0</td>\n    </tr>\n  </tbody>\n</table>\n<p>232873 rows × 100 columns</p>\n</div>"
     },
     "execution_count": 9,
     "metadata": {},
     "output_type": "execute_result"
    }
   ],
   "source": [
    "df_dset_walking_3f.reset_index(inplace=True)\n",
    "df_dset_walking_3f"
   ],
   "metadata": {
    "collapsed": false,
    "pycharm": {
     "name": "#%%\n"
    }
   }
  },
  {
   "cell_type": "code",
   "execution_count": 11,
   "outputs": [
    {
     "data": {
      "text/plain": "        raw_acc:magnitude_stats:mean  raw_acc:magnitude_stats:std  \\\n0                           0.996815                     0.003529   \n1                           0.996864                     0.004172   \n2                           0.996825                     0.003667   \n3                           0.996874                     0.003541   \n4                           0.997371                     0.037653   \n...                              ...                          ...   \n232868                      1.044478                     0.001459   \n232869                      1.045003                     0.001521   \n232870                      1.044018                     0.001528   \n232871                      1.043469                     0.048007   \n232872                      1.044458                     0.115433   \n\n        raw_acc:magnitude_stats:moment3  raw_acc:magnitude_stats:moment4  \\\n0                             -0.002786                         0.006496   \n1                             -0.003110                         0.007050   \n2                              0.003094                         0.006076   \n3                              0.000626                         0.006059   \n4                              0.043389                         0.102332   \n...                                 ...                              ...   \n232868                        -0.000447                         0.001928   \n232869                         0.000802                         0.002004   \n232870                        -0.000719                         0.002038   \n232871                        -0.070631                         0.147004   \n232872                         0.181896                         0.323459   \n\n        raw_acc:magnitude_stats:percentile25  \\\n0                                   0.995203   \n1                                   0.994957   \n2                                   0.994797   \n3                                   0.995050   \n4                                   0.995548   \n...                                      ...   \n232868                              1.043584   \n232869                              1.043932   \n232870                              1.043013   \n232871                              1.041401   \n232872                              1.038181   \n\n        raw_acc:magnitude_stats:percentile50  \\\n0                                   0.996825   \n1                                   0.996981   \n2                                   0.996614   \n3                                   0.996907   \n4                                   0.996860   \n...                                      ...   \n232868                              1.044439   \n232869                              1.044956   \n232870                              1.044054   \n232871                              1.043133   \n232872                              1.043588   \n\n        raw_acc:magnitude_stats:percentile75  \\\n0                                   0.998502   \n1                                   0.998766   \n2                                   0.998704   \n3                                   0.998690   \n4                                   0.998205   \n...                                      ...   \n232868                              1.045451   \n232869                              1.045980   \n232870                              1.045033   \n232871                              1.044632   \n232872                              1.047153   \n\n        raw_acc:magnitude_stats:value_entropy  \\\n0                                    1.748756   \n1                                    1.935573   \n2                                    2.031780   \n3                                    1.865318   \n4                                    0.460806   \n...                                       ...   \n232868                               2.557106   \n232869                               2.510352   \n232870                               2.587285   \n232871                               0.542064   \n232872                               0.725280   \n\n        raw_acc:magnitude_stats:time_entropy  \\\n0                                   6.684605   \n1                                   6.684603   \n2                                   6.684605   \n3                                   6.684605   \n4                                   6.683904   \n...                                      ...   \n232868                              6.684611   \n232869                              6.684611   \n232870                              6.684611   \n232871                              6.683448   \n232872                              6.678871   \n\n        raw_acc:magnitude_spectrum:log_energy_band0  ...  \\\n0                                          5.043970  ...   \n1                                          5.043367  ...   \n2                                          5.043599  ...   \n3                                          5.043263  ...   \n4                                          5.042779  ...   \n...                                             ...  ...   \n232868                                     5.043712  ...   \n232869                                     5.043931  ...   \n232870                                     5.043217  ...   \n232871                                     5.043480  ...   \n232872                                     5.037301  ...   \n\n        watch_acceleration:spectrum:z_log_energy_band1  \\\n0                                             0.004994   \n1                                             0.003815   \n2                                             0.007040   \n3                                             0.004311   \n4                                             1.742936   \n...                                                ...   \n232868                                        2.793748   \n232869                                        3.839144   \n232870                                        4.570503   \n232871                                        3.424182   \n232872                                        0.000000   \n\n        watch_acceleration:spectrum:z_log_energy_band2  \\\n0                                             0.023702   \n1                                             0.025582   \n2                                             0.020717   \n3                                             0.034215   \n4                                             1.477211   \n...                                                ...   \n232868                                        3.069341   \n232869                                        4.369760   \n232870                                        4.411898   \n232871                                        3.070862   \n232872                                        5.144524   \n\n        watch_acceleration:spectrum:z_log_energy_band3  \\\n0                                             0.022539   \n1                                             0.023285   \n2                                             0.026889   \n3                                             0.035575   \n4                                             1.302678   \n...                                                ...   \n232868                                        1.653165   \n232869                                        1.329904   \n232870                                        3.227623   \n232871                                        2.806717   \n232872                                        0.198603   \n\n        watch_acceleration:spectrum:z_log_energy_band4  \\\n0                                             0.083756   \n1                                             0.129195   \n2                                             0.080554   \n3                                             0.090120   \n4                                             2.700446   \n...                                                ...   \n232868                                        0.000000   \n232869                                        0.000000   \n232870                                        0.000000   \n232871                                        0.000000   \n232872                                        0.722311   \n\n        watch_acceleration:relative_directions:avr_cosine_similarity_lag_range0  \\\n0                                                0.999849                         \n1                                                0.999835                         \n2                                                0.999817                         \n3                                                0.999854                         \n4                                                0.986681                         \n...                                                   ...                         \n232868                                           0.975794                         \n232869                                           0.888645                         \n232870                                           0.901224                         \n232871                                           0.958302                         \n232872                                           0.999885                         \n\n        watch_acceleration:relative_directions:avr_cosine_similarity_lag_range1  \\\n0                                                0.999835                         \n1                                                0.999827                         \n2                                                0.999797                         \n3                                                0.999845                         \n4                                                0.962466                         \n...                                                   ...                         \n232868                                           0.939543                         \n232869                                           0.776227                         \n232870                                           0.768997                         \n232871                                           0.895361                         \n232872                                           0.999871                         \n\n        watch_acceleration:relative_directions:avr_cosine_similarity_lag_range2  \\\n0                                                0.999836                         \n1                                                0.999817                         \n2                                                0.999790                         \n3                                                0.999842                         \n4                                                0.955313                         \n...                                                   ...                         \n232868                                           0.818400                         \n232869                                           0.353599                         \n232870                                           0.431188                         \n232871                                           0.726545                         \n232872                                           0.000000                         \n\n        watch_acceleration:relative_directions:avr_cosine_similarity_lag_range3  \\\n0                                                0.999832                         \n1                                                0.999820                         \n2                                                0.999791                         \n3                                                0.999841                         \n4                                                0.944759                         \n...                                                   ...                         \n232868                                           0.755940                         \n232869                                           0.325917                         \n232870                                           0.305545                         \n232871                                           0.337854                         \n232872                                           0.000000                         \n\n        watch_acceleration:relative_directions:avr_cosine_similarity_lag_range4  \\\n0                                                0.999819                         \n1                                                0.999828                         \n2                                                0.999824                         \n3                                                0.999829                         \n4                                                0.995185                         \n...                                                   ...                         \n232868                                           0.778336                         \n232869                                          -0.103433                         \n232870                                           0.579282                         \n232871                                          -0.262308                         \n232872                                           0.000000                         \n\n        label:FIX_walking  \n0                     0.0  \n1                     0.0  \n2                     0.0  \n3                     0.0  \n4                     0.0  \n...                   ...  \n232868                0.0  \n232869                0.0  \n232870                0.0  \n232871                0.0  \n232872                0.0  \n\n[232873 rows x 99 columns]",
      "text/html": "<div>\n<style scoped>\n    .dataframe tbody tr th:only-of-type {\n        vertical-align: middle;\n    }\n\n    .dataframe tbody tr th {\n        vertical-align: top;\n    }\n\n    .dataframe thead th {\n        text-align: right;\n    }\n</style>\n<table border=\"1\" class=\"dataframe\">\n  <thead>\n    <tr style=\"text-align: right;\">\n      <th></th>\n      <th>raw_acc:magnitude_stats:mean</th>\n      <th>raw_acc:magnitude_stats:std</th>\n      <th>raw_acc:magnitude_stats:moment3</th>\n      <th>raw_acc:magnitude_stats:moment4</th>\n      <th>raw_acc:magnitude_stats:percentile25</th>\n      <th>raw_acc:magnitude_stats:percentile50</th>\n      <th>raw_acc:magnitude_stats:percentile75</th>\n      <th>raw_acc:magnitude_stats:value_entropy</th>\n      <th>raw_acc:magnitude_stats:time_entropy</th>\n      <th>raw_acc:magnitude_spectrum:log_energy_band0</th>\n      <th>...</th>\n      <th>watch_acceleration:spectrum:z_log_energy_band1</th>\n      <th>watch_acceleration:spectrum:z_log_energy_band2</th>\n      <th>watch_acceleration:spectrum:z_log_energy_band3</th>\n      <th>watch_acceleration:spectrum:z_log_energy_band4</th>\n      <th>watch_acceleration:relative_directions:avr_cosine_similarity_lag_range0</th>\n      <th>watch_acceleration:relative_directions:avr_cosine_similarity_lag_range1</th>\n      <th>watch_acceleration:relative_directions:avr_cosine_similarity_lag_range2</th>\n      <th>watch_acceleration:relative_directions:avr_cosine_similarity_lag_range3</th>\n      <th>watch_acceleration:relative_directions:avr_cosine_similarity_lag_range4</th>\n      <th>label:FIX_walking</th>\n    </tr>\n  </thead>\n  <tbody>\n    <tr>\n      <th>0</th>\n      <td>0.996815</td>\n      <td>0.003529</td>\n      <td>-0.002786</td>\n      <td>0.006496</td>\n      <td>0.995203</td>\n      <td>0.996825</td>\n      <td>0.998502</td>\n      <td>1.748756</td>\n      <td>6.684605</td>\n      <td>5.043970</td>\n      <td>...</td>\n      <td>0.004994</td>\n      <td>0.023702</td>\n      <td>0.022539</td>\n      <td>0.083756</td>\n      <td>0.999849</td>\n      <td>0.999835</td>\n      <td>0.999836</td>\n      <td>0.999832</td>\n      <td>0.999819</td>\n      <td>0.0</td>\n    </tr>\n    <tr>\n      <th>1</th>\n      <td>0.996864</td>\n      <td>0.004172</td>\n      <td>-0.003110</td>\n      <td>0.007050</td>\n      <td>0.994957</td>\n      <td>0.996981</td>\n      <td>0.998766</td>\n      <td>1.935573</td>\n      <td>6.684603</td>\n      <td>5.043367</td>\n      <td>...</td>\n      <td>0.003815</td>\n      <td>0.025582</td>\n      <td>0.023285</td>\n      <td>0.129195</td>\n      <td>0.999835</td>\n      <td>0.999827</td>\n      <td>0.999817</td>\n      <td>0.999820</td>\n      <td>0.999828</td>\n      <td>0.0</td>\n    </tr>\n    <tr>\n      <th>2</th>\n      <td>0.996825</td>\n      <td>0.003667</td>\n      <td>0.003094</td>\n      <td>0.006076</td>\n      <td>0.994797</td>\n      <td>0.996614</td>\n      <td>0.998704</td>\n      <td>2.031780</td>\n      <td>6.684605</td>\n      <td>5.043599</td>\n      <td>...</td>\n      <td>0.007040</td>\n      <td>0.020717</td>\n      <td>0.026889</td>\n      <td>0.080554</td>\n      <td>0.999817</td>\n      <td>0.999797</td>\n      <td>0.999790</td>\n      <td>0.999791</td>\n      <td>0.999824</td>\n      <td>0.0</td>\n    </tr>\n    <tr>\n      <th>3</th>\n      <td>0.996874</td>\n      <td>0.003541</td>\n      <td>0.000626</td>\n      <td>0.006059</td>\n      <td>0.995050</td>\n      <td>0.996907</td>\n      <td>0.998690</td>\n      <td>1.865318</td>\n      <td>6.684605</td>\n      <td>5.043263</td>\n      <td>...</td>\n      <td>0.004311</td>\n      <td>0.034215</td>\n      <td>0.035575</td>\n      <td>0.090120</td>\n      <td>0.999854</td>\n      <td>0.999845</td>\n      <td>0.999842</td>\n      <td>0.999841</td>\n      <td>0.999829</td>\n      <td>0.0</td>\n    </tr>\n    <tr>\n      <th>4</th>\n      <td>0.997371</td>\n      <td>0.037653</td>\n      <td>0.043389</td>\n      <td>0.102332</td>\n      <td>0.995548</td>\n      <td>0.996860</td>\n      <td>0.998205</td>\n      <td>0.460806</td>\n      <td>6.683904</td>\n      <td>5.042779</td>\n      <td>...</td>\n      <td>1.742936</td>\n      <td>1.477211</td>\n      <td>1.302678</td>\n      <td>2.700446</td>\n      <td>0.986681</td>\n      <td>0.962466</td>\n      <td>0.955313</td>\n      <td>0.944759</td>\n      <td>0.995185</td>\n      <td>0.0</td>\n    </tr>\n    <tr>\n      <th>...</th>\n      <td>...</td>\n      <td>...</td>\n      <td>...</td>\n      <td>...</td>\n      <td>...</td>\n      <td>...</td>\n      <td>...</td>\n      <td>...</td>\n      <td>...</td>\n      <td>...</td>\n      <td>...</td>\n      <td>...</td>\n      <td>...</td>\n      <td>...</td>\n      <td>...</td>\n      <td>...</td>\n      <td>...</td>\n      <td>...</td>\n      <td>...</td>\n      <td>...</td>\n      <td>...</td>\n    </tr>\n    <tr>\n      <th>232868</th>\n      <td>1.044478</td>\n      <td>0.001459</td>\n      <td>-0.000447</td>\n      <td>0.001928</td>\n      <td>1.043584</td>\n      <td>1.044439</td>\n      <td>1.045451</td>\n      <td>2.557106</td>\n      <td>6.684611</td>\n      <td>5.043712</td>\n      <td>...</td>\n      <td>2.793748</td>\n      <td>3.069341</td>\n      <td>1.653165</td>\n      <td>0.000000</td>\n      <td>0.975794</td>\n      <td>0.939543</td>\n      <td>0.818400</td>\n      <td>0.755940</td>\n      <td>0.778336</td>\n      <td>0.0</td>\n    </tr>\n    <tr>\n      <th>232869</th>\n      <td>1.045003</td>\n      <td>0.001521</td>\n      <td>0.000802</td>\n      <td>0.002004</td>\n      <td>1.043932</td>\n      <td>1.044956</td>\n      <td>1.045980</td>\n      <td>2.510352</td>\n      <td>6.684611</td>\n      <td>5.043931</td>\n      <td>...</td>\n      <td>3.839144</td>\n      <td>4.369760</td>\n      <td>1.329904</td>\n      <td>0.000000</td>\n      <td>0.888645</td>\n      <td>0.776227</td>\n      <td>0.353599</td>\n      <td>0.325917</td>\n      <td>-0.103433</td>\n      <td>0.0</td>\n    </tr>\n    <tr>\n      <th>232870</th>\n      <td>1.044018</td>\n      <td>0.001528</td>\n      <td>-0.000719</td>\n      <td>0.002038</td>\n      <td>1.043013</td>\n      <td>1.044054</td>\n      <td>1.045033</td>\n      <td>2.587285</td>\n      <td>6.684611</td>\n      <td>5.043217</td>\n      <td>...</td>\n      <td>4.570503</td>\n      <td>4.411898</td>\n      <td>3.227623</td>\n      <td>0.000000</td>\n      <td>0.901224</td>\n      <td>0.768997</td>\n      <td>0.431188</td>\n      <td>0.305545</td>\n      <td>0.579282</td>\n      <td>0.0</td>\n    </tr>\n    <tr>\n      <th>232871</th>\n      <td>1.043469</td>\n      <td>0.048007</td>\n      <td>-0.070631</td>\n      <td>0.147004</td>\n      <td>1.041401</td>\n      <td>1.043133</td>\n      <td>1.044632</td>\n      <td>0.542064</td>\n      <td>6.683448</td>\n      <td>5.043480</td>\n      <td>...</td>\n      <td>3.424182</td>\n      <td>3.070862</td>\n      <td>2.806717</td>\n      <td>0.000000</td>\n      <td>0.958302</td>\n      <td>0.895361</td>\n      <td>0.726545</td>\n      <td>0.337854</td>\n      <td>-0.262308</td>\n      <td>0.0</td>\n    </tr>\n    <tr>\n      <th>232872</th>\n      <td>1.044458</td>\n      <td>0.115433</td>\n      <td>0.181896</td>\n      <td>0.323459</td>\n      <td>1.038181</td>\n      <td>1.043588</td>\n      <td>1.047153</td>\n      <td>0.725280</td>\n      <td>6.678871</td>\n      <td>5.037301</td>\n      <td>...</td>\n      <td>0.000000</td>\n      <td>5.144524</td>\n      <td>0.198603</td>\n      <td>0.722311</td>\n      <td>0.999885</td>\n      <td>0.999871</td>\n      <td>0.000000</td>\n      <td>0.000000</td>\n      <td>0.000000</td>\n      <td>0.0</td>\n    </tr>\n  </tbody>\n</table>\n<p>232873 rows × 99 columns</p>\n</div>"
     },
     "execution_count": 11,
     "metadata": {},
     "output_type": "execute_result"
    }
   ],
   "source": [
    "df_dset_walking_3f.drop(axis=1, columns=[\"index\"], inplace=True)\n",
    "df_dset_walking_3f"
   ],
   "metadata": {
    "collapsed": false,
    "pycharm": {
     "name": "#%%\n"
    }
   }
  },
  {
   "cell_type": "markdown",
   "source": [
    "#### Create CSV for walking label"
   ],
   "metadata": {
    "collapsed": false,
    "pycharm": {
     "name": "#%% md\n"
    }
   }
  },
  {
   "cell_type": "code",
   "execution_count": 12,
   "outputs": [
    {
     "name": "stdout",
     "output_type": "stream",
     "text": [
      "Dataset saved to csv.\n"
     ]
    }
   ],
   "source": [
    "# save csv for walking with all the 3 features:\n",
    "dset_final_path = \"D:\\\\_coding\\\\_wd\\\\_python\\\\uni\\\\Behavioral-Context-Recognition\\\\dataset\"\n",
    "df_dset_walking_3f.to_csv(dset_final_path+\"\\\\dataset_walking_3f.csv\", index=False)\n",
    "print(\"Dataset saved to csv.\")"
   ],
   "metadata": {
    "collapsed": false,
    "pycharm": {
     "name": "#%%\n"
    }
   }
  },
  {
   "cell_type": "code",
   "execution_count": 14,
   "outputs": [
    {
     "name": "stdout",
     "output_type": "stream",
     "text": [
      "Columns deleted.\n",
      "Dataset saved to csv.\n"
     ]
    }
   ],
   "source": [
    "# save csv for walking with all gyro features:\n",
    "dset_final_path = \"D:\\\\_coding\\\\_wd\\\\_python\\\\uni\\\\Behavioral-Context-Recognition\\\\dataset\"\n",
    "\n",
    "df_dset_walking_3f_copy = df_dset_walking_3f.copy()\n",
    "\n",
    "columns = df_dset_walking_3f_copy.columns\n",
    "list_columns_to_delete = []\n",
    "\n",
    "for col in columns:\n",
    "    if any(word in col for word in [\"gyro\",\"label\"]):\n",
    "        continue\n",
    "    else:\n",
    "        list_columns_to_delete.append(col)\n",
    "\n",
    "df_dset_walking_3f_copy.drop(columns=list_columns_to_delete, inplace=True)\n",
    "print(\"Columns deleted.\")\n",
    "\n",
    "df_dset_walking_3f_copy.to_csv(dset_final_path+\"\\\\dataset_walking_gyro_allfeatures.csv\", index=False)\n",
    "print(\"Dataset saved to csv.\")"
   ],
   "metadata": {
    "collapsed": false,
    "pycharm": {
     "name": "#%%\n"
    }
   }
  }
 ],
 "metadata": {
  "kernelspec": {
   "name": "pycharm-3e8abd5e",
   "language": "python",
   "display_name": "PyCharm (Behavioral-Context-Recognition)"
  },
  "language_info": {
   "codemirror_mode": {
    "name": "ipython",
    "version": 2
   },
   "file_extension": ".py",
   "mimetype": "text/x-python",
   "name": "python",
   "nbconvert_exporter": "python",
   "pygments_lexer": "ipython2",
   "version": "2.7.6"
  }
 },
 "nbformat": 4,
 "nbformat_minor": 0
}