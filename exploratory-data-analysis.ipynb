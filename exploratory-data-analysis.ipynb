{
 "cells": [
  {
   "cell_type": "markdown",
   "id": "549f9fb2-b49f-4581-ac35-8acd840736d9",
   "metadata": {},
   "source": [
    "# Exploratory Data Analysis"
   ]
  },
  {
   "cell_type": "markdown",
   "id": "f5eae37c-cb5d-43ad-9bde-57fd4ec5e870",
   "metadata": {},
   "source": [
    "## Dataset Load\n",
    "Here's the paths to the dataset's zip file and to the directory you want to extract the files:"
   ]
  },
  {
   "cell_type": "code",
   "execution_count": 1,
   "id": "b2499d80-c0ea-455e-88c4-f65686711117",
   "metadata": {},
   "outputs": [],
   "source": [
    "# change path according to your local path\n",
    "dset_zip_path = \"D:\\\\_coding\\\\_wd\\\\_python\\\\uni\\\\Behavioral-Context-Recognition\\\\dataset\\\\ExtraSensory.per_uuid_features_labels.zip\"\n",
    "dset_final_path = \"D:\\\\_coding\\\\_wd\\\\_python\\\\uni\\\\Behavioral-Context-Recognition\\\\dataset\\\\unzipped_dataset\""
   ]
  },
  {
   "cell_type": "markdown",
   "source": [
    "From the main dataset's zip file <code>dset_zip_path</code>, we extract the inner gz files\n",
    "(where 1 gz file contains measurements relative to 1 subject). The gz file are extracted to the directory <code>dset_final_path</code>."
   ],
   "metadata": {
    "collapsed": false,
    "pycharm": {
     "name": "#%% md\n"
    }
   }
  },
  {
   "cell_type": "code",
   "execution_count": 2,
   "outputs": [
    {
     "name": "stdout",
     "output_type": "stream",
     "text": [
      "All the files are extracted\n"
     ]
    }
   ],
   "source": [
    "from zipfile import ZipFile\n",
    "\n",
    "with ZipFile(dset_zip_path, 'r') as zipObject:\n",
    "   listOfFileNames = zipObject.namelist()\n",
    "   for fileName in listOfFileNames:\n",
    "      zipObject.extract(fileName, dset_final_path)\n",
    "   print('All the files are extracted')"
   ],
   "metadata": {
    "collapsed": false,
    "pycharm": {
     "name": "#%%\n"
    }
   }
  },
  {
   "cell_type": "markdown",
   "source": [
    "Now we get the measurements' data from all files into 1 single <code>DataFrame</code>.\n",
    "Since data come from several gz files (where each file is related to a single subject),\n",
    "for all measurement time stamp, we add the id of the relative subject (by simply adding the name of the file)."
   ],
   "metadata": {
    "collapsed": false,
    "pycharm": {
     "name": "#%% md\n"
    }
   }
  },
  {
   "cell_type": "code",
   "execution_count": 3,
   "outputs": [
    {
     "data": {
      "text/plain": "                                             subj_id   timestamp  \\\n0  00EABED2-271D-49D8-B599-1D4A09240601.features_...  1444079161   \n1  00EABED2-271D-49D8-B599-1D4A09240601.features_...  1444079221   \n2  00EABED2-271D-49D8-B599-1D4A09240601.features_...  1444079281   \n3  00EABED2-271D-49D8-B599-1D4A09240601.features_...  1444079341   \n4  00EABED2-271D-49D8-B599-1D4A09240601.features_...  1444079431   \n\n   raw_acc:magnitude_stats:mean  raw_acc:magnitude_stats:std  \\\n0                      0.996815                     0.003529   \n1                      0.996864                     0.004172   \n2                      0.996825                     0.003667   \n3                      0.996874                     0.003541   \n4                      0.997371                     0.037653   \n\n   raw_acc:magnitude_stats:moment3  raw_acc:magnitude_stats:moment4  \\\n0                        -0.002786                         0.006496   \n1                        -0.003110                         0.007050   \n2                         0.003094                         0.006076   \n3                         0.000626                         0.006059   \n4                         0.043389                         0.102332   \n\n   raw_acc:magnitude_stats:percentile25  raw_acc:magnitude_stats:percentile50  \\\n0                              0.995203                              0.996825   \n1                              0.994957                              0.996981   \n2                              0.994797                              0.996614   \n3                              0.995050                              0.996907   \n4                              0.995548                              0.996860   \n\n   raw_acc:magnitude_stats:percentile75  \\\n0                              0.998502   \n1                              0.998766   \n2                              0.998704   \n3                              0.998690   \n4                              0.998205   \n\n   raw_acc:magnitude_stats:value_entropy  ...  label:STAIRS_-_GOING_DOWN  \\\n0                               1.748756  ...                        NaN   \n1                               1.935573  ...                        NaN   \n2                               2.031780  ...                        NaN   \n3                               1.865318  ...                        NaN   \n4                               0.460806  ...                        NaN   \n\n   label:ELEVATOR  label:OR_standing  label:AT_SCHOOL  label:PHONE_IN_HAND  \\\n0             NaN                0.0              NaN                  NaN   \n1             NaN                0.0              NaN                  NaN   \n2             NaN                0.0              NaN                  NaN   \n3             NaN                0.0              NaN                  NaN   \n4             NaN                0.0              NaN                  NaN   \n\n   label:PHONE_IN_BAG  label:PHONE_ON_TABLE  label:WITH_CO-WORKERS  \\\n0                 NaN                   1.0                    1.0   \n1                 NaN                   1.0                    1.0   \n2                 NaN                   1.0                    1.0   \n3                 NaN                   1.0                    1.0   \n4                 NaN                   1.0                    1.0   \n\n   label:WITH_FRIENDS  label_source  \n0                 NaN             2  \n1                 NaN             2  \n2                 NaN             2  \n3                 NaN             2  \n4                 NaN             2  \n\n[5 rows x 279 columns]",
      "text/html": "<div>\n<style scoped>\n    .dataframe tbody tr th:only-of-type {\n        vertical-align: middle;\n    }\n\n    .dataframe tbody tr th {\n        vertical-align: top;\n    }\n\n    .dataframe thead th {\n        text-align: right;\n    }\n</style>\n<table border=\"1\" class=\"dataframe\">\n  <thead>\n    <tr style=\"text-align: right;\">\n      <th></th>\n      <th>subj_id</th>\n      <th>timestamp</th>\n      <th>raw_acc:magnitude_stats:mean</th>\n      <th>raw_acc:magnitude_stats:std</th>\n      <th>raw_acc:magnitude_stats:moment3</th>\n      <th>raw_acc:magnitude_stats:moment4</th>\n      <th>raw_acc:magnitude_stats:percentile25</th>\n      <th>raw_acc:magnitude_stats:percentile50</th>\n      <th>raw_acc:magnitude_stats:percentile75</th>\n      <th>raw_acc:magnitude_stats:value_entropy</th>\n      <th>...</th>\n      <th>label:STAIRS_-_GOING_DOWN</th>\n      <th>label:ELEVATOR</th>\n      <th>label:OR_standing</th>\n      <th>label:AT_SCHOOL</th>\n      <th>label:PHONE_IN_HAND</th>\n      <th>label:PHONE_IN_BAG</th>\n      <th>label:PHONE_ON_TABLE</th>\n      <th>label:WITH_CO-WORKERS</th>\n      <th>label:WITH_FRIENDS</th>\n      <th>label_source</th>\n    </tr>\n  </thead>\n  <tbody>\n    <tr>\n      <th>0</th>\n      <td>00EABED2-271D-49D8-B599-1D4A09240601.features_...</td>\n      <td>1444079161</td>\n      <td>0.996815</td>\n      <td>0.003529</td>\n      <td>-0.002786</td>\n      <td>0.006496</td>\n      <td>0.995203</td>\n      <td>0.996825</td>\n      <td>0.998502</td>\n      <td>1.748756</td>\n      <td>...</td>\n      <td>NaN</td>\n      <td>NaN</td>\n      <td>0.0</td>\n      <td>NaN</td>\n      <td>NaN</td>\n      <td>NaN</td>\n      <td>1.0</td>\n      <td>1.0</td>\n      <td>NaN</td>\n      <td>2</td>\n    </tr>\n    <tr>\n      <th>1</th>\n      <td>00EABED2-271D-49D8-B599-1D4A09240601.features_...</td>\n      <td>1444079221</td>\n      <td>0.996864</td>\n      <td>0.004172</td>\n      <td>-0.003110</td>\n      <td>0.007050</td>\n      <td>0.994957</td>\n      <td>0.996981</td>\n      <td>0.998766</td>\n      <td>1.935573</td>\n      <td>...</td>\n      <td>NaN</td>\n      <td>NaN</td>\n      <td>0.0</td>\n      <td>NaN</td>\n      <td>NaN</td>\n      <td>NaN</td>\n      <td>1.0</td>\n      <td>1.0</td>\n      <td>NaN</td>\n      <td>2</td>\n    </tr>\n    <tr>\n      <th>2</th>\n      <td>00EABED2-271D-49D8-B599-1D4A09240601.features_...</td>\n      <td>1444079281</td>\n      <td>0.996825</td>\n      <td>0.003667</td>\n      <td>0.003094</td>\n      <td>0.006076</td>\n      <td>0.994797</td>\n      <td>0.996614</td>\n      <td>0.998704</td>\n      <td>2.031780</td>\n      <td>...</td>\n      <td>NaN</td>\n      <td>NaN</td>\n      <td>0.0</td>\n      <td>NaN</td>\n      <td>NaN</td>\n      <td>NaN</td>\n      <td>1.0</td>\n      <td>1.0</td>\n      <td>NaN</td>\n      <td>2</td>\n    </tr>\n    <tr>\n      <th>3</th>\n      <td>00EABED2-271D-49D8-B599-1D4A09240601.features_...</td>\n      <td>1444079341</td>\n      <td>0.996874</td>\n      <td>0.003541</td>\n      <td>0.000626</td>\n      <td>0.006059</td>\n      <td>0.995050</td>\n      <td>0.996907</td>\n      <td>0.998690</td>\n      <td>1.865318</td>\n      <td>...</td>\n      <td>NaN</td>\n      <td>NaN</td>\n      <td>0.0</td>\n      <td>NaN</td>\n      <td>NaN</td>\n      <td>NaN</td>\n      <td>1.0</td>\n      <td>1.0</td>\n      <td>NaN</td>\n      <td>2</td>\n    </tr>\n    <tr>\n      <th>4</th>\n      <td>00EABED2-271D-49D8-B599-1D4A09240601.features_...</td>\n      <td>1444079431</td>\n      <td>0.997371</td>\n      <td>0.037653</td>\n      <td>0.043389</td>\n      <td>0.102332</td>\n      <td>0.995548</td>\n      <td>0.996860</td>\n      <td>0.998205</td>\n      <td>0.460806</td>\n      <td>...</td>\n      <td>NaN</td>\n      <td>NaN</td>\n      <td>0.0</td>\n      <td>NaN</td>\n      <td>NaN</td>\n      <td>NaN</td>\n      <td>1.0</td>\n      <td>1.0</td>\n      <td>NaN</td>\n      <td>2</td>\n    </tr>\n  </tbody>\n</table>\n<p>5 rows × 279 columns</p>\n</div>"
     },
     "execution_count": 3,
     "metadata": {},
     "output_type": "execute_result"
    }
   ],
   "source": [
    "import os\n",
    "import gzip\n",
    "import pandas as pd\n",
    "\n",
    "df_list=[]\n",
    "for gzFile in os.listdir(dset_final_path):\n",
    "   path_gz = dset_final_path + \"\\\\\" + gzFile\n",
    "   with gzip.open(path_gz) as f:\n",
    "      df = pd.read_csv(f, header=0)\n",
    "      df.insert(0,'subj_id',gzFile)\n",
    "      df_list.append(df)\n",
    "\n",
    "df_dset = pd.concat(df_list, axis=0, ignore_index=True)\n",
    "df_dset.head()"
   ],
   "metadata": {
    "collapsed": false,
    "pycharm": {
     "name": "#%%\n"
    }
   }
  },
  {
   "cell_type": "markdown",
   "source": [
    "Looking at the head of the DataFrame, we see that we have a total of 279 columns: 278 from the csv files and the first one (<code>subj_id</code>) which we added for linking the single time stamp to the relative subject id.\n",
    "\n",
    "Now let's get a description of the <code>subj_id</code> column to assess that all the subjects are added to the dataframe."
   ],
   "metadata": {
    "collapsed": false,
    "pycharm": {
     "name": "#%% md\n"
    }
   }
  },
  {
   "cell_type": "code",
   "execution_count": 6,
   "outputs": [
    {
     "data": {
      "text/plain": "count                                                377346\nunique                                                   60\ntop       78A91A4E-4A51-4065-BDA7-94755F0BB3BB.features_...\nfreq                                                  11996\nName: subj_id, dtype: object"
     },
     "execution_count": 6,
     "metadata": {},
     "output_type": "execute_result"
    }
   ],
   "source": [
    "df_dset['subj_id'].describe()"
   ],
   "metadata": {
    "collapsed": false,
    "pycharm": {
     "name": "#%%\n"
    }
   }
  },
  {
   "cell_type": "markdown",
   "source": [
    "There are a total of 60 <code>unique</code> items in the <code>subj_id</code> column so it's safe to say that all subjects' data have been correctly retrieved."
   ],
   "metadata": {
    "collapsed": false
   }
  },
  {
   "cell_type": "markdown",
   "source": [
    "## Identification of variables and data types\n",
    "The general description of the dataset is accessible at the link http://extrasensory.ucsd.edu/data/primary_data_files/README.txt.\n",
    "\n",
    "Here we start by taking into consideration a single variable to find out the time series' trends for each variable and the correlation between the single variable and the labels.\n",
    "### Watch Acceleration\n",
    "---work in progress--"
   ],
   "metadata": {
    "collapsed": false,
    "pycharm": {
     "name": "#%% md\n"
    }
   }
  }
 ],
 "metadata": {
  "kernelspec": {
   "name": "pycharm-3e8abd5e",
   "language": "python",
   "display_name": "PyCharm (Behavioral-Context-Recognition)"
  },
  "language_info": {
   "codemirror_mode": {
    "name": "ipython",
    "version": 3
   },
   "file_extension": ".py",
   "mimetype": "text/x-python",
   "name": "python",
   "nbconvert_exporter": "python",
   "pygments_lexer": "ipython3",
   "version": "3.7.0"
  }
 },
 "nbformat": 4,
 "nbformat_minor": 5
}