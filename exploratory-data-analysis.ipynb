{
 "cells": [
  {
   "cell_type": "markdown",
   "id": "549f9fb2-b49f-4581-ac35-8acd840736d9",
   "metadata": {},
   "source": [
    "# Exploratory Data Analysis"
   ]
  },
  {
   "cell_type": "markdown",
   "id": "f5eae37c-cb5d-43ad-9bde-57fd4ec5e870",
   "metadata": {},
   "source": [
    "## Dataset Load\n",
    "Here's the paths to the dataset's zip file and to the directory you want to extract the files:"
   ]
  },
  {
   "cell_type": "code",
   "execution_count": 1,
   "id": "b2499d80-c0ea-455e-88c4-f65686711117",
   "metadata": {},
   "outputs": [],
   "source": [
    "# change path according to your local path\n",
    "dset_zip_path = \"D:\\\\_coding\\\\_wd\\\\_python\\\\uni\\\\Behavioral-Context-Recognition\\\\dataset\\\\ExtraSensory.per_uuid_features_labels.zip\"\n",
    "dset_final_path = \"D:\\\\_coding\\\\_wd\\\\_python\\\\uni\\\\Behavioral-Context-Recognition\\\\dataset\\\\unzipped_dataset\""
   ]
  },
  {
   "cell_type": "markdown",
   "source": [
    "From the main dataset's zip file <code>dset_zip_path</code>, we extract the inner gz files\n",
    "(where 1 gz file contains measurements relative to 1 subject). The gz file are extracted to the directory <code>dset_final_path</code>."
   ],
   "metadata": {
    "collapsed": false,
    "pycharm": {
     "name": "#%% md\n"
    }
   }
  },
  {
   "cell_type": "code",
   "execution_count": 2,
   "outputs": [
    {
     "name": "stdout",
     "output_type": "stream",
     "text": [
      "All the files are extracted\n"
     ]
    }
   ],
   "source": [
    "from zipfile import ZipFile\n",
    "\n",
    "with ZipFile(dset_zip_path, 'r') as zipObject:\n",
    "   listOfFileNames = zipObject.namelist()\n",
    "   for fileName in listOfFileNames:\n",
    "      zipObject.extract(fileName, dset_final_path)\n",
    "   print('All the files are extracted')\n"
   ],
   "metadata": {
    "collapsed": false,
    "pycharm": {
     "name": "#%%\n"
    }
   }
  },
  {
   "cell_type": "markdown",
   "source": [
    "Now we get the measurements' data from all files into 1 single DataFrame. Since data come from several gz files (where each file is related to a single subject), for all measurement time stamp, we add the id of the relative subject (by simply adding the name of the file)."
   ],
   "metadata": {
    "collapsed": false,
    "pycharm": {
     "name": "#%% md\n"
    }
   }
  },
  {
   "cell_type": "code",
   "execution_count": 3,
   "outputs": [
    {
     "data": {
      "text/plain": "                                   uuid   timestamp  \\\n0  00EABED2-271D-49D8-B599-1D4A09240601  1444079161   \n1  00EABED2-271D-49D8-B599-1D4A09240601  1444079221   \n2  00EABED2-271D-49D8-B599-1D4A09240601  1444079281   \n3  00EABED2-271D-49D8-B599-1D4A09240601  1444079341   \n4  00EABED2-271D-49D8-B599-1D4A09240601  1444079431   \n\n   raw_acc:magnitude_stats:mean  raw_acc:magnitude_stats:std  \\\n0                      0.996815                     0.003529   \n1                      0.996864                     0.004172   \n2                      0.996825                     0.003667   \n3                      0.996874                     0.003541   \n4                      0.997371                     0.037653   \n\n   raw_acc:magnitude_stats:moment3  raw_acc:magnitude_stats:moment4  \\\n0                        -0.002786                         0.006496   \n1                        -0.003110                         0.007050   \n2                         0.003094                         0.006076   \n3                         0.000626                         0.006059   \n4                         0.043389                         0.102332   \n\n   raw_acc:magnitude_stats:percentile25  raw_acc:magnitude_stats:percentile50  \\\n0                              0.995203                              0.996825   \n1                              0.994957                              0.996981   \n2                              0.994797                              0.996614   \n3                              0.995050                              0.996907   \n4                              0.995548                              0.996860   \n\n   raw_acc:magnitude_stats:percentile75  \\\n0                              0.998502   \n1                              0.998766   \n2                              0.998704   \n3                              0.998690   \n4                              0.998205   \n\n   raw_acc:magnitude_stats:value_entropy  ...  label:STAIRS_-_GOING_DOWN  \\\n0                               1.748756  ...                        NaN   \n1                               1.935573  ...                        NaN   \n2                               2.031780  ...                        NaN   \n3                               1.865318  ...                        NaN   \n4                               0.460806  ...                        NaN   \n\n   label:ELEVATOR  label:OR_standing  label:AT_SCHOOL  label:PHONE_IN_HAND  \\\n0             NaN                0.0              NaN                  NaN   \n1             NaN                0.0              NaN                  NaN   \n2             NaN                0.0              NaN                  NaN   \n3             NaN                0.0              NaN                  NaN   \n4             NaN                0.0              NaN                  NaN   \n\n   label:PHONE_IN_BAG  label:PHONE_ON_TABLE  label:WITH_CO-WORKERS  \\\n0                 NaN                   1.0                    1.0   \n1                 NaN                   1.0                    1.0   \n2                 NaN                   1.0                    1.0   \n3                 NaN                   1.0                    1.0   \n4                 NaN                   1.0                    1.0   \n\n   label:WITH_FRIENDS  label_source  \n0                 NaN             2  \n1                 NaN             2  \n2                 NaN             2  \n3                 NaN             2  \n4                 NaN             2  \n\n[5 rows x 279 columns]",
      "text/html": "<div>\n<style scoped>\n    .dataframe tbody tr th:only-of-type {\n        vertical-align: middle;\n    }\n\n    .dataframe tbody tr th {\n        vertical-align: top;\n    }\n\n    .dataframe thead th {\n        text-align: right;\n    }\n</style>\n<table border=\"1\" class=\"dataframe\">\n  <thead>\n    <tr style=\"text-align: right;\">\n      <th></th>\n      <th>uuid</th>\n      <th>timestamp</th>\n      <th>raw_acc:magnitude_stats:mean</th>\n      <th>raw_acc:magnitude_stats:std</th>\n      <th>raw_acc:magnitude_stats:moment3</th>\n      <th>raw_acc:magnitude_stats:moment4</th>\n      <th>raw_acc:magnitude_stats:percentile25</th>\n      <th>raw_acc:magnitude_stats:percentile50</th>\n      <th>raw_acc:magnitude_stats:percentile75</th>\n      <th>raw_acc:magnitude_stats:value_entropy</th>\n      <th>...</th>\n      <th>label:STAIRS_-_GOING_DOWN</th>\n      <th>label:ELEVATOR</th>\n      <th>label:OR_standing</th>\n      <th>label:AT_SCHOOL</th>\n      <th>label:PHONE_IN_HAND</th>\n      <th>label:PHONE_IN_BAG</th>\n      <th>label:PHONE_ON_TABLE</th>\n      <th>label:WITH_CO-WORKERS</th>\n      <th>label:WITH_FRIENDS</th>\n      <th>label_source</th>\n    </tr>\n  </thead>\n  <tbody>\n    <tr>\n      <th>0</th>\n      <td>00EABED2-271D-49D8-B599-1D4A09240601</td>\n      <td>1444079161</td>\n      <td>0.996815</td>\n      <td>0.003529</td>\n      <td>-0.002786</td>\n      <td>0.006496</td>\n      <td>0.995203</td>\n      <td>0.996825</td>\n      <td>0.998502</td>\n      <td>1.748756</td>\n      <td>...</td>\n      <td>NaN</td>\n      <td>NaN</td>\n      <td>0.0</td>\n      <td>NaN</td>\n      <td>NaN</td>\n      <td>NaN</td>\n      <td>1.0</td>\n      <td>1.0</td>\n      <td>NaN</td>\n      <td>2</td>\n    </tr>\n    <tr>\n      <th>1</th>\n      <td>00EABED2-271D-49D8-B599-1D4A09240601</td>\n      <td>1444079221</td>\n      <td>0.996864</td>\n      <td>0.004172</td>\n      <td>-0.003110</td>\n      <td>0.007050</td>\n      <td>0.994957</td>\n      <td>0.996981</td>\n      <td>0.998766</td>\n      <td>1.935573</td>\n      <td>...</td>\n      <td>NaN</td>\n      <td>NaN</td>\n      <td>0.0</td>\n      <td>NaN</td>\n      <td>NaN</td>\n      <td>NaN</td>\n      <td>1.0</td>\n      <td>1.0</td>\n      <td>NaN</td>\n      <td>2</td>\n    </tr>\n    <tr>\n      <th>2</th>\n      <td>00EABED2-271D-49D8-B599-1D4A09240601</td>\n      <td>1444079281</td>\n      <td>0.996825</td>\n      <td>0.003667</td>\n      <td>0.003094</td>\n      <td>0.006076</td>\n      <td>0.994797</td>\n      <td>0.996614</td>\n      <td>0.998704</td>\n      <td>2.031780</td>\n      <td>...</td>\n      <td>NaN</td>\n      <td>NaN</td>\n      <td>0.0</td>\n      <td>NaN</td>\n      <td>NaN</td>\n      <td>NaN</td>\n      <td>1.0</td>\n      <td>1.0</td>\n      <td>NaN</td>\n      <td>2</td>\n    </tr>\n    <tr>\n      <th>3</th>\n      <td>00EABED2-271D-49D8-B599-1D4A09240601</td>\n      <td>1444079341</td>\n      <td>0.996874</td>\n      <td>0.003541</td>\n      <td>0.000626</td>\n      <td>0.006059</td>\n      <td>0.995050</td>\n      <td>0.996907</td>\n      <td>0.998690</td>\n      <td>1.865318</td>\n      <td>...</td>\n      <td>NaN</td>\n      <td>NaN</td>\n      <td>0.0</td>\n      <td>NaN</td>\n      <td>NaN</td>\n      <td>NaN</td>\n      <td>1.0</td>\n      <td>1.0</td>\n      <td>NaN</td>\n      <td>2</td>\n    </tr>\n    <tr>\n      <th>4</th>\n      <td>00EABED2-271D-49D8-B599-1D4A09240601</td>\n      <td>1444079431</td>\n      <td>0.997371</td>\n      <td>0.037653</td>\n      <td>0.043389</td>\n      <td>0.102332</td>\n      <td>0.995548</td>\n      <td>0.996860</td>\n      <td>0.998205</td>\n      <td>0.460806</td>\n      <td>...</td>\n      <td>NaN</td>\n      <td>NaN</td>\n      <td>0.0</td>\n      <td>NaN</td>\n      <td>NaN</td>\n      <td>NaN</td>\n      <td>1.0</td>\n      <td>1.0</td>\n      <td>NaN</td>\n      <td>2</td>\n    </tr>\n  </tbody>\n</table>\n<p>5 rows × 279 columns</p>\n</div>"
     },
     "execution_count": 3,
     "metadata": {},
     "output_type": "execute_result"
    }
   ],
   "source": [
    "import os\n",
    "import gzip\n",
    "import pandas as pd\n",
    "\n",
    "df_list=[]\n",
    "for gzFile in os.listdir(dset_final_path):\n",
    "   path_gz = dset_final_path + \"\\\\\" + gzFile\n",
    "   with gzip.open(path_gz) as f:\n",
    "      df = pd.read_csv(f, header=0)\n",
    "      df.insert(0,'uuid',gzFile[:-23])\n",
    "      df_list.append(df)\n",
    "\n",
    "df_dset = pd.concat(df_list, axis=0, ignore_index=True)\n",
    "df_dset.head()"
   ],
   "metadata": {
    "collapsed": false,
    "pycharm": {
     "name": "#%%\n"
    }
   }
  },
  {
   "cell_type": "markdown",
   "source": [
    "Looking at the head of the DataFrame, we see that we have a total\n",
    "of 279 columns: 278 from the csv files and the first one\n",
    "(<code>uuid</code>) which we added for linking the single time stamp\n",
    "to the relative subject id.\n",
    "\n",
    "Now let's get a description of the <code>uuid</code> column to assess that all the subjects are added to the dataframe."
   ],
   "metadata": {
    "collapsed": false,
    "pycharm": {
     "name": "#%% md\n"
    }
   }
  },
  {
   "cell_type": "code",
   "execution_count": 4,
   "outputs": [
    {
     "data": {
      "text/plain": "count                                   377346\nunique                                      60\ntop       78A91A4E-4A51-4065-BDA7-94755F0BB3BB\nfreq                                     11996\nName: uuid, dtype: object"
     },
     "execution_count": 4,
     "metadata": {},
     "output_type": "execute_result"
    }
   ],
   "source": [
    "df_dset['uuid'].describe()"
   ],
   "metadata": {
    "collapsed": false,
    "pycharm": {
     "name": "#%%\n"
    }
   }
  },
  {
   "cell_type": "markdown",
   "source": [
    "There are a total of 60 <code>unique</code> items in the <code>uuid</code> column so it's safe to say that all subjects' data have been correctly retrieved."
   ],
   "metadata": {
    "collapsed": false
   }
  },
  {
   "cell_type": "markdown",
   "source": [
    "## Variables exploration\n",
    "The general description of the dataset is accessible at the link http://extrasensory.ucsd.edu/data/primary_data_files/README.txt.\n",
    "\n",
    "Here we start by taking into consideration a single variable to find out the time series' trends for each variable and the correlation between the single variable and the labels."
   ],
   "metadata": {
    "collapsed": false,
    "pycharm": {
     "name": "#%% md\n"
    }
   }
  },
  {
   "cell_type": "markdown",
   "source": [
    "### Watch Acceleration"
   ],
   "metadata": {
    "collapsed": false,
    "pycharm": {
     "name": "#%% md\n"
    }
   }
  },
  {
   "cell_type": "code",
   "execution_count": 9,
   "outputs": [
    {
     "data": {
      "text/plain": "                                      uuid   timestamp  \\\n0     1155FF54-63D3-4AB2-9863-8385D0BD0A13  1464129912   \n1     1155FF54-63D3-4AB2-9863-8385D0BD0A13  1464129950   \n2     1155FF54-63D3-4AB2-9863-8385D0BD0A13  1464130031   \n3     1155FF54-63D3-4AB2-9863-8385D0BD0A13  1464130109   \n4     1155FF54-63D3-4AB2-9863-8385D0BD0A13  1464130130   \n...                                    ...         ...   \n2680  1155FF54-63D3-4AB2-9863-8385D0BD0A13  1464886422   \n2681  1155FF54-63D3-4AB2-9863-8385D0BD0A13  1464886722   \n2682  1155FF54-63D3-4AB2-9863-8385D0BD0A13  1464887023   \n2683  1155FF54-63D3-4AB2-9863-8385D0BD0A13  1464887322   \n2684  1155FF54-63D3-4AB2-9863-8385D0BD0A13  1464887622   \n\n      raw_acc:magnitude_stats:mean  raw_acc:magnitude_stats:std  \\\n0                         1.011438                     0.012573   \n1                         1.011233                     0.009356   \n2                         1.013422                     0.018068   \n3                         1.014891                     0.016400   \n4                         1.017487                     0.022632   \n...                            ...                          ...   \n2680                      1.002114                     0.043888   \n2681                      1.015957                     0.068057   \n2682                      0.996011                     0.039554   \n2683                      1.079283                     0.404817   \n2684                      1.093802                     0.496113   \n\n      raw_acc:magnitude_stats:moment3  raw_acc:magnitude_stats:moment4  \\\n0                            0.023013                         0.041240   \n1                           -0.005622                         0.016687   \n2                           -0.008593                         0.039286   \n3                            0.021383                         0.038825   \n4                           -0.012891                         0.037226   \n...                               ...                              ...   \n2680                        -0.023421                         0.060480   \n2681                        -0.030021                         0.108892   \n2682                        -0.034651                         0.065742   \n2683                         0.330815                         0.569329   \n2684                         0.392577                         0.649850   \n\n      raw_acc:magnitude_stats:percentile25  \\\n0                                 1.006184   \n1                                 1.006338   \n2                                 1.004077   \n3                                 1.005934   \n4                                 1.006040   \n...                                    ...   \n2680                              0.975662   \n2681                              0.980304   \n2682                              0.976391   \n2683                              0.907679   \n2684                              0.748208   \n\n      raw_acc:magnitude_stats:percentile50  \\\n0                                 1.010868   \n1                                 1.010926   \n2                                 1.012983   \n3                                 1.014670   \n4                                 1.017587   \n...                                    ...   \n2680                              1.001421   \n2681                              1.015067   \n2682                              0.998637   \n2683                              1.001940   \n2684                              1.035166   \n\n      raw_acc:magnitude_stats:percentile75  \\\n0                                 1.016028   \n1                                 1.016657   \n2                                 1.021926   \n3                                 1.023000   \n4                                 1.028168   \n...                                    ...   \n2680                              1.028555   \n2681                              1.050255   \n2682                              1.018739   \n2683                              1.298900   \n2684                              1.391941   \n\n      raw_acc:magnitude_stats:value_entropy  ...  label:STAIRS_-_GOING_DOWN  \\\n0                                  0.935099  ...                        0.0   \n1                                  1.732968  ...                        0.0   \n2                                  1.464639  ...                        0.0   \n3                                  1.440043  ...                        0.0   \n4                                  1.937362  ...                        0.0   \n...                                     ...  ...                        ...   \n2680                               2.562570  ...                        0.0   \n2681                               2.055226  ...                        0.0   \n2682                               1.989673  ...                        0.0   \n2683                               2.453154  ...                        0.0   \n2684                               2.759925  ...                        0.0   \n\n      label:ELEVATOR  label:OR_standing  label:AT_SCHOOL  label:PHONE_IN_HAND  \\\n0                NaN                0.0              0.0                  NaN   \n1                NaN                0.0              0.0                  NaN   \n2                NaN                0.0              0.0                  NaN   \n3                NaN                0.0              0.0                  NaN   \n4                NaN                0.0              0.0                  NaN   \n...              ...                ...              ...                  ...   \n2680             NaN                0.0              0.0                  0.0   \n2681             NaN                0.0              0.0                  0.0   \n2682             NaN                0.0              0.0                  0.0   \n2683             NaN                0.0              0.0                  0.0   \n2684             NaN                0.0              0.0                  0.0   \n\n      label:PHONE_IN_BAG  label:PHONE_ON_TABLE  label:WITH_CO-WORKERS  \\\n0                    NaN                   NaN                    1.0   \n1                    NaN                   NaN                    1.0   \n2                    NaN                   NaN                    1.0   \n3                    NaN                   NaN                    1.0   \n4                    NaN                   NaN                    1.0   \n...                  ...                   ...                    ...   \n2680                 NaN                   0.0                    0.0   \n2681                 NaN                   0.0                    0.0   \n2682                 NaN                   0.0                    0.0   \n2683                 NaN                   0.0                    0.0   \n2684                 NaN                   0.0                    0.0   \n\n      label:WITH_FRIENDS  label_source  \n0                    0.0             2  \n1                    0.0             2  \n2                    0.0             2  \n3                    0.0             2  \n4                    0.0             2  \n...                  ...           ...  \n2680                 0.0             1  \n2681                 0.0             1  \n2682                 0.0             1  \n2683                 0.0             4  \n2684                 0.0             4  \n\n[2685 rows x 279 columns]",
      "text/html": "<div>\n<style scoped>\n    .dataframe tbody tr th:only-of-type {\n        vertical-align: middle;\n    }\n\n    .dataframe tbody tr th {\n        vertical-align: top;\n    }\n\n    .dataframe thead th {\n        text-align: right;\n    }\n</style>\n<table border=\"1\" class=\"dataframe\">\n  <thead>\n    <tr style=\"text-align: right;\">\n      <th></th>\n      <th>uuid</th>\n      <th>timestamp</th>\n      <th>raw_acc:magnitude_stats:mean</th>\n      <th>raw_acc:magnitude_stats:std</th>\n      <th>raw_acc:magnitude_stats:moment3</th>\n      <th>raw_acc:magnitude_stats:moment4</th>\n      <th>raw_acc:magnitude_stats:percentile25</th>\n      <th>raw_acc:magnitude_stats:percentile50</th>\n      <th>raw_acc:magnitude_stats:percentile75</th>\n      <th>raw_acc:magnitude_stats:value_entropy</th>\n      <th>...</th>\n      <th>label:STAIRS_-_GOING_DOWN</th>\n      <th>label:ELEVATOR</th>\n      <th>label:OR_standing</th>\n      <th>label:AT_SCHOOL</th>\n      <th>label:PHONE_IN_HAND</th>\n      <th>label:PHONE_IN_BAG</th>\n      <th>label:PHONE_ON_TABLE</th>\n      <th>label:WITH_CO-WORKERS</th>\n      <th>label:WITH_FRIENDS</th>\n      <th>label_source</th>\n    </tr>\n  </thead>\n  <tbody>\n    <tr>\n      <th>0</th>\n      <td>1155FF54-63D3-4AB2-9863-8385D0BD0A13</td>\n      <td>1464129912</td>\n      <td>1.011438</td>\n      <td>0.012573</td>\n      <td>0.023013</td>\n      <td>0.041240</td>\n      <td>1.006184</td>\n      <td>1.010868</td>\n      <td>1.016028</td>\n      <td>0.935099</td>\n      <td>...</td>\n      <td>0.0</td>\n      <td>NaN</td>\n      <td>0.0</td>\n      <td>0.0</td>\n      <td>NaN</td>\n      <td>NaN</td>\n      <td>NaN</td>\n      <td>1.0</td>\n      <td>0.0</td>\n      <td>2</td>\n    </tr>\n    <tr>\n      <th>1</th>\n      <td>1155FF54-63D3-4AB2-9863-8385D0BD0A13</td>\n      <td>1464129950</td>\n      <td>1.011233</td>\n      <td>0.009356</td>\n      <td>-0.005622</td>\n      <td>0.016687</td>\n      <td>1.006338</td>\n      <td>1.010926</td>\n      <td>1.016657</td>\n      <td>1.732968</td>\n      <td>...</td>\n      <td>0.0</td>\n      <td>NaN</td>\n      <td>0.0</td>\n      <td>0.0</td>\n      <td>NaN</td>\n      <td>NaN</td>\n      <td>NaN</td>\n      <td>1.0</td>\n      <td>0.0</td>\n      <td>2</td>\n    </tr>\n    <tr>\n      <th>2</th>\n      <td>1155FF54-63D3-4AB2-9863-8385D0BD0A13</td>\n      <td>1464130031</td>\n      <td>1.013422</td>\n      <td>0.018068</td>\n      <td>-0.008593</td>\n      <td>0.039286</td>\n      <td>1.004077</td>\n      <td>1.012983</td>\n      <td>1.021926</td>\n      <td>1.464639</td>\n      <td>...</td>\n      <td>0.0</td>\n      <td>NaN</td>\n      <td>0.0</td>\n      <td>0.0</td>\n      <td>NaN</td>\n      <td>NaN</td>\n      <td>NaN</td>\n      <td>1.0</td>\n      <td>0.0</td>\n      <td>2</td>\n    </tr>\n    <tr>\n      <th>3</th>\n      <td>1155FF54-63D3-4AB2-9863-8385D0BD0A13</td>\n      <td>1464130109</td>\n      <td>1.014891</td>\n      <td>0.016400</td>\n      <td>0.021383</td>\n      <td>0.038825</td>\n      <td>1.005934</td>\n      <td>1.014670</td>\n      <td>1.023000</td>\n      <td>1.440043</td>\n      <td>...</td>\n      <td>0.0</td>\n      <td>NaN</td>\n      <td>0.0</td>\n      <td>0.0</td>\n      <td>NaN</td>\n      <td>NaN</td>\n      <td>NaN</td>\n      <td>1.0</td>\n      <td>0.0</td>\n      <td>2</td>\n    </tr>\n    <tr>\n      <th>4</th>\n      <td>1155FF54-63D3-4AB2-9863-8385D0BD0A13</td>\n      <td>1464130130</td>\n      <td>1.017487</td>\n      <td>0.022632</td>\n      <td>-0.012891</td>\n      <td>0.037226</td>\n      <td>1.006040</td>\n      <td>1.017587</td>\n      <td>1.028168</td>\n      <td>1.937362</td>\n      <td>...</td>\n      <td>0.0</td>\n      <td>NaN</td>\n      <td>0.0</td>\n      <td>0.0</td>\n      <td>NaN</td>\n      <td>NaN</td>\n      <td>NaN</td>\n      <td>1.0</td>\n      <td>0.0</td>\n      <td>2</td>\n    </tr>\n    <tr>\n      <th>...</th>\n      <td>...</td>\n      <td>...</td>\n      <td>...</td>\n      <td>...</td>\n      <td>...</td>\n      <td>...</td>\n      <td>...</td>\n      <td>...</td>\n      <td>...</td>\n      <td>...</td>\n      <td>...</td>\n      <td>...</td>\n      <td>...</td>\n      <td>...</td>\n      <td>...</td>\n      <td>...</td>\n      <td>...</td>\n      <td>...</td>\n      <td>...</td>\n      <td>...</td>\n      <td>...</td>\n    </tr>\n    <tr>\n      <th>2680</th>\n      <td>1155FF54-63D3-4AB2-9863-8385D0BD0A13</td>\n      <td>1464886422</td>\n      <td>1.002114</td>\n      <td>0.043888</td>\n      <td>-0.023421</td>\n      <td>0.060480</td>\n      <td>0.975662</td>\n      <td>1.001421</td>\n      <td>1.028555</td>\n      <td>2.562570</td>\n      <td>...</td>\n      <td>0.0</td>\n      <td>NaN</td>\n      <td>0.0</td>\n      <td>0.0</td>\n      <td>0.0</td>\n      <td>NaN</td>\n      <td>0.0</td>\n      <td>0.0</td>\n      <td>0.0</td>\n      <td>1</td>\n    </tr>\n    <tr>\n      <th>2681</th>\n      <td>1155FF54-63D3-4AB2-9863-8385D0BD0A13</td>\n      <td>1464886722</td>\n      <td>1.015957</td>\n      <td>0.068057</td>\n      <td>-0.030021</td>\n      <td>0.108892</td>\n      <td>0.980304</td>\n      <td>1.015067</td>\n      <td>1.050255</td>\n      <td>2.055226</td>\n      <td>...</td>\n      <td>0.0</td>\n      <td>NaN</td>\n      <td>0.0</td>\n      <td>0.0</td>\n      <td>0.0</td>\n      <td>NaN</td>\n      <td>0.0</td>\n      <td>0.0</td>\n      <td>0.0</td>\n      <td>1</td>\n    </tr>\n    <tr>\n      <th>2682</th>\n      <td>1155FF54-63D3-4AB2-9863-8385D0BD0A13</td>\n      <td>1464887023</td>\n      <td>0.996011</td>\n      <td>0.039554</td>\n      <td>-0.034651</td>\n      <td>0.065742</td>\n      <td>0.976391</td>\n      <td>0.998637</td>\n      <td>1.018739</td>\n      <td>1.989673</td>\n      <td>...</td>\n      <td>0.0</td>\n      <td>NaN</td>\n      <td>0.0</td>\n      <td>0.0</td>\n      <td>0.0</td>\n      <td>NaN</td>\n      <td>0.0</td>\n      <td>0.0</td>\n      <td>0.0</td>\n      <td>1</td>\n    </tr>\n    <tr>\n      <th>2683</th>\n      <td>1155FF54-63D3-4AB2-9863-8385D0BD0A13</td>\n      <td>1464887322</td>\n      <td>1.079283</td>\n      <td>0.404817</td>\n      <td>0.330815</td>\n      <td>0.569329</td>\n      <td>0.907679</td>\n      <td>1.001940</td>\n      <td>1.298900</td>\n      <td>2.453154</td>\n      <td>...</td>\n      <td>0.0</td>\n      <td>NaN</td>\n      <td>0.0</td>\n      <td>0.0</td>\n      <td>0.0</td>\n      <td>NaN</td>\n      <td>0.0</td>\n      <td>0.0</td>\n      <td>0.0</td>\n      <td>4</td>\n    </tr>\n    <tr>\n      <th>2684</th>\n      <td>1155FF54-63D3-4AB2-9863-8385D0BD0A13</td>\n      <td>1464887622</td>\n      <td>1.093802</td>\n      <td>0.496113</td>\n      <td>0.392577</td>\n      <td>0.649850</td>\n      <td>0.748208</td>\n      <td>1.035166</td>\n      <td>1.391941</td>\n      <td>2.759925</td>\n      <td>...</td>\n      <td>0.0</td>\n      <td>NaN</td>\n      <td>0.0</td>\n      <td>0.0</td>\n      <td>0.0</td>\n      <td>NaN</td>\n      <td>0.0</td>\n      <td>0.0</td>\n      <td>0.0</td>\n      <td>4</td>\n    </tr>\n  </tbody>\n</table>\n<p>2685 rows × 279 columns</p>\n</div>"
     },
     "execution_count": 9,
     "metadata": {},
     "output_type": "execute_result"
    }
   ],
   "source": [
    "uuid = '1155FF54-63D3-4AB2-9863-8385D0BD0A13'\n",
    "user_data = df_dset.loc[df_dset['uuid']==uuid]\n",
    "user_data = user_data.copy()\n",
    "user_data.reset_index(inplace=True,drop=True)\n",
    "user_data"
   ],
   "metadata": {
    "collapsed": false,
    "pycharm": {
     "name": "#%%\n"
    }
   }
  },
  {
   "cell_type": "code",
   "execution_count": 10,
   "outputs": [
    {
     "data": {
      "text/plain": "<Figure size 432x288 with 1 Axes>",
      "image/png": "[encoded data removed]"
     },
     "metadata": {
      "needs_background": "light"
     },
     "output_type": "display_data"
    }
   ],
   "source": [
    "from matplotlib import pyplot\n",
    "\n",
    "user_data[\"watch_acceleration:magnitude_stats:mean\"].plot()\n",
    "pyplot.show()"
   ],
   "metadata": {
    "collapsed": false,
    "pycharm": {
     "name": "#%%\n"
    }
   }
  }
 ],
 "metadata": {
  "kernelspec": {
   "name": "pycharm-3e8abd5e",
   "language": "python",
   "display_name": "PyCharm (Behavioral-Context-Recognition)"
  },
  "language_info": {
   "codemirror_mode": {
    "name": "ipython",
    "version": 3
   },
   "file_extension": ".py",
   "mimetype": "text/x-python",
   "name": "python",
   "nbconvert_exporter": "python",
   "pygments_lexer": "ipython3",
   "version": "3.7.0"
  }
 },
 "nbformat": 4,
 "nbformat_minor": 5
}